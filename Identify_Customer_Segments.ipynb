{
 "cells": [
  {
   "cell_type": "markdown",
   "metadata": {},
   "source": [
    "# Project: Identify Customer Segments\n",
    "\n",
    "In this project, you will apply unsupervised learning techniques to identify segments of the population that form the core customer base for a mail-order sales company in Germany. These segments can then be used to direct marketing campaigns towards audiences that will have the highest expected rate of returns. The data that you will use has been provided by our partners at Bertelsmann Arvato Analytics, and represents a real-life data science task.\n",
    "\n",
    "This notebook will help you complete this task by providing a framework within which you will perform your analysis steps. In each step of the project, you will see some text describing the subtask that you will perform, followed by one or more code cells for you to complete your work. **Feel free to add additional code and markdown cells as you go along so that you can explore everything in precise chunks.** The code cells provided in the base template will outline only the major tasks, and will usually not be enough to cover all of the minor tasks that comprise it.\n",
    "\n",
    "It should be noted that while there will be precise guidelines on how you should handle certain tasks in the project, there will also be places where an exact specification is not provided. **There will be times in the project where you will need to make and justify your own decisions on how to treat the data.** These are places where there may not be only one way to handle the data. In real-life tasks, there may be many valid ways to approach an analysis task. One of the most important things you can do is clearly document your approach so that other scientists can understand the decisions you've made.\n",
    "\n",
    "At the end of most sections, there will be a Markdown cell labeled **Discussion**. In these cells, you will report your findings for the completed section, as well as document the decisions that you made in your approach to each subtask. **Your project will be evaluated not just on the code used to complete the tasks outlined, but also your communication about your observations and conclusions at each stage.**"
   ]
  },
  {
   "cell_type": "code",
   "execution_count": 1,
   "metadata": {},
   "outputs": [],
   "source": [
    "# import libraries here; add more as necessary\n",
    "import numpy as np\n",
    "import pandas as pd\n",
    "import matplotlib.pyplot as plt\n",
    "import seaborn as sns\n",
    "from sklearn.preprocessing import Imputer, StandardScaler\n",
    "from sklearn.decomposition import PCA\n",
    "from sklearn.cluster import KMeans\n",
    "# magic word for producing visualizations in notebook\n",
    "%matplotlib inline"
   ]
  },
  {
   "cell_type": "markdown",
   "metadata": {},
   "source": [
    "### Step 0: Load the Data\n",
    "\n",
    "There are four files associated with this project (not including this one):\n",
    "\n",
    "- `Udacity_AZDIAS_Subset.csv`: Demographics data for the general population of Germany; 891211 persons (rows) x 85 features (columns).\n",
    "- `Udacity_CUSTOMERS_Subset.csv`: Demographics data for customers of a mail-order company; 191652 persons (rows) x 85 features (columns).\n",
    "- `Data_Dictionary.md`: Detailed information file about the features in the provided datasets.\n",
    "- `AZDIAS_Feature_Summary.csv`: Summary of feature attributes for demographics data; 85 features (rows) x 4 columns\n",
    "\n",
    "Each row of the demographics files represents a single person, but also includes information outside of individuals, including information about their household, building, and neighborhood. You will use this information to cluster the general population into groups with similar demographic properties. Then, you will see how the people in the customers dataset fit into those created clusters. The hope here is that certain clusters are over-represented in the customers data, as compared to the general population; those over-represented clusters will be assumed to be part of the core userbase. This information can then be used for further applications, such as targeting for a marketing campaign.\n",
    "\n",
    "To start off with, load in the demographics data for the general population into a pandas DataFrame, and do the same for the feature attributes summary. Note for all of the `.csv` data files in this project: they're semicolon (`;`) delimited, so you'll need an additional argument in your [`read_csv()`](https://pandas.pydata.org/pandas-docs/stable/generated/pandas.read_csv.html) call to read in the data properly. Also, considering the size of the main dataset, it may take some time for it to load completely.\n",
    "\n",
    "Once the dataset is loaded, it's recommended that you take a little bit of time just browsing the general structure of the dataset and feature summary file. You'll be getting deep into the innards of the cleaning in the first major step of the project, so gaining some general familiarity can help you get your bearings."
   ]
  },
  {
   "cell_type": "code",
   "execution_count": 2,
   "metadata": {},
   "outputs": [],
   "source": [
    "# Load in the general demographics data.\n",
    "azdias = pd.read_csv('Udacity_AZDIAS_Subset.csv',sep=';')\n",
    "\n",
    "# Load in the feature summary file.\n",
    "feat_info = pd.read_csv('AZDIAS_Feature_Summary.csv',sep=';')"
   ]
  },
  {
   "cell_type": "code",
   "execution_count": 3,
   "metadata": {},
   "outputs": [
    {
     "data": {
      "text/html": [
       "<div>\n",
       "<style scoped>\n",
       "    .dataframe tbody tr th:only-of-type {\n",
       "        vertical-align: middle;\n",
       "    }\n",
       "\n",
       "    .dataframe tbody tr th {\n",
       "        vertical-align: top;\n",
       "    }\n",
       "\n",
       "    .dataframe thead th {\n",
       "        text-align: right;\n",
       "    }\n",
       "</style>\n",
       "<table border=\"1\" class=\"dataframe\">\n",
       "  <thead>\n",
       "    <tr style=\"text-align: right;\">\n",
       "      <th></th>\n",
       "      <th>AGER_TYP</th>\n",
       "      <th>ALTERSKATEGORIE_GROB</th>\n",
       "      <th>ANREDE_KZ</th>\n",
       "      <th>CJT_GESAMTTYP</th>\n",
       "      <th>FINANZ_MINIMALIST</th>\n",
       "      <th>FINANZ_SPARER</th>\n",
       "      <th>FINANZ_VORSORGER</th>\n",
       "      <th>FINANZ_ANLEGER</th>\n",
       "      <th>FINANZ_UNAUFFAELLIGER</th>\n",
       "      <th>FINANZ_HAUSBAUER</th>\n",
       "      <th>...</th>\n",
       "      <th>PLZ8_ANTG1</th>\n",
       "      <th>PLZ8_ANTG2</th>\n",
       "      <th>PLZ8_ANTG3</th>\n",
       "      <th>PLZ8_ANTG4</th>\n",
       "      <th>PLZ8_BAUMAX</th>\n",
       "      <th>PLZ8_HHZ</th>\n",
       "      <th>PLZ8_GBZ</th>\n",
       "      <th>ARBEIT</th>\n",
       "      <th>ORTSGR_KLS9</th>\n",
       "      <th>RELAT_AB</th>\n",
       "    </tr>\n",
       "  </thead>\n",
       "  <tbody>\n",
       "    <tr>\n",
       "      <th>0</th>\n",
       "      <td>-1</td>\n",
       "      <td>2</td>\n",
       "      <td>1</td>\n",
       "      <td>2.0</td>\n",
       "      <td>3</td>\n",
       "      <td>4</td>\n",
       "      <td>3</td>\n",
       "      <td>5</td>\n",
       "      <td>5</td>\n",
       "      <td>3</td>\n",
       "      <td>...</td>\n",
       "      <td>NaN</td>\n",
       "      <td>NaN</td>\n",
       "      <td>NaN</td>\n",
       "      <td>NaN</td>\n",
       "      <td>NaN</td>\n",
       "      <td>NaN</td>\n",
       "      <td>NaN</td>\n",
       "      <td>NaN</td>\n",
       "      <td>NaN</td>\n",
       "      <td>NaN</td>\n",
       "    </tr>\n",
       "    <tr>\n",
       "      <th>1</th>\n",
       "      <td>-1</td>\n",
       "      <td>1</td>\n",
       "      <td>2</td>\n",
       "      <td>5.0</td>\n",
       "      <td>1</td>\n",
       "      <td>5</td>\n",
       "      <td>2</td>\n",
       "      <td>5</td>\n",
       "      <td>4</td>\n",
       "      <td>5</td>\n",
       "      <td>...</td>\n",
       "      <td>2.0</td>\n",
       "      <td>3.0</td>\n",
       "      <td>2.0</td>\n",
       "      <td>1.0</td>\n",
       "      <td>1.0</td>\n",
       "      <td>5.0</td>\n",
       "      <td>4.0</td>\n",
       "      <td>3.0</td>\n",
       "      <td>5.0</td>\n",
       "      <td>4.0</td>\n",
       "    </tr>\n",
       "    <tr>\n",
       "      <th>2</th>\n",
       "      <td>-1</td>\n",
       "      <td>3</td>\n",
       "      <td>2</td>\n",
       "      <td>3.0</td>\n",
       "      <td>1</td>\n",
       "      <td>4</td>\n",
       "      <td>1</td>\n",
       "      <td>2</td>\n",
       "      <td>3</td>\n",
       "      <td>5</td>\n",
       "      <td>...</td>\n",
       "      <td>3.0</td>\n",
       "      <td>3.0</td>\n",
       "      <td>1.0</td>\n",
       "      <td>0.0</td>\n",
       "      <td>1.0</td>\n",
       "      <td>4.0</td>\n",
       "      <td>4.0</td>\n",
       "      <td>3.0</td>\n",
       "      <td>5.0</td>\n",
       "      <td>2.0</td>\n",
       "    </tr>\n",
       "    <tr>\n",
       "      <th>3</th>\n",
       "      <td>2</td>\n",
       "      <td>4</td>\n",
       "      <td>2</td>\n",
       "      <td>2.0</td>\n",
       "      <td>4</td>\n",
       "      <td>2</td>\n",
       "      <td>5</td>\n",
       "      <td>2</td>\n",
       "      <td>1</td>\n",
       "      <td>2</td>\n",
       "      <td>...</td>\n",
       "      <td>2.0</td>\n",
       "      <td>2.0</td>\n",
       "      <td>2.0</td>\n",
       "      <td>0.0</td>\n",
       "      <td>1.0</td>\n",
       "      <td>3.0</td>\n",
       "      <td>4.0</td>\n",
       "      <td>2.0</td>\n",
       "      <td>3.0</td>\n",
       "      <td>3.0</td>\n",
       "    </tr>\n",
       "    <tr>\n",
       "      <th>4</th>\n",
       "      <td>-1</td>\n",
       "      <td>3</td>\n",
       "      <td>1</td>\n",
       "      <td>5.0</td>\n",
       "      <td>4</td>\n",
       "      <td>3</td>\n",
       "      <td>4</td>\n",
       "      <td>1</td>\n",
       "      <td>3</td>\n",
       "      <td>2</td>\n",
       "      <td>...</td>\n",
       "      <td>2.0</td>\n",
       "      <td>4.0</td>\n",
       "      <td>2.0</td>\n",
       "      <td>1.0</td>\n",
       "      <td>2.0</td>\n",
       "      <td>3.0</td>\n",
       "      <td>3.0</td>\n",
       "      <td>4.0</td>\n",
       "      <td>6.0</td>\n",
       "      <td>5.0</td>\n",
       "    </tr>\n",
       "  </tbody>\n",
       "</table>\n",
       "<p>5 rows × 85 columns</p>\n",
       "</div>"
      ],
      "text/plain": [
       "   AGER_TYP  ALTERSKATEGORIE_GROB  ANREDE_KZ  CJT_GESAMTTYP  \\\n",
       "0        -1                     2          1            2.0   \n",
       "1        -1                     1          2            5.0   \n",
       "2        -1                     3          2            3.0   \n",
       "3         2                     4          2            2.0   \n",
       "4        -1                     3          1            5.0   \n",
       "\n",
       "   FINANZ_MINIMALIST  FINANZ_SPARER  FINANZ_VORSORGER  FINANZ_ANLEGER  \\\n",
       "0                  3              4                 3               5   \n",
       "1                  1              5                 2               5   \n",
       "2                  1              4                 1               2   \n",
       "3                  4              2                 5               2   \n",
       "4                  4              3                 4               1   \n",
       "\n",
       "   FINANZ_UNAUFFAELLIGER  FINANZ_HAUSBAUER    ...     PLZ8_ANTG1  PLZ8_ANTG2  \\\n",
       "0                      5                 3    ...            NaN         NaN   \n",
       "1                      4                 5    ...            2.0         3.0   \n",
       "2                      3                 5    ...            3.0         3.0   \n",
       "3                      1                 2    ...            2.0         2.0   \n",
       "4                      3                 2    ...            2.0         4.0   \n",
       "\n",
       "   PLZ8_ANTG3  PLZ8_ANTG4  PLZ8_BAUMAX  PLZ8_HHZ  PLZ8_GBZ  ARBEIT  \\\n",
       "0         NaN         NaN          NaN       NaN       NaN     NaN   \n",
       "1         2.0         1.0          1.0       5.0       4.0     3.0   \n",
       "2         1.0         0.0          1.0       4.0       4.0     3.0   \n",
       "3         2.0         0.0          1.0       3.0       4.0     2.0   \n",
       "4         2.0         1.0          2.0       3.0       3.0     4.0   \n",
       "\n",
       "   ORTSGR_KLS9  RELAT_AB  \n",
       "0          NaN       NaN  \n",
       "1          5.0       4.0  \n",
       "2          5.0       2.0  \n",
       "3          3.0       3.0  \n",
       "4          6.0       5.0  \n",
       "\n",
       "[5 rows x 85 columns]"
      ]
     },
     "execution_count": 3,
     "metadata": {},
     "output_type": "execute_result"
    }
   ],
   "source": [
    "# Check the structure of the data after it's loaded (e.g. print the number of\n",
    "# rows and columns, print the first few rows).\n",
    "azdias.head()"
   ]
  },
  {
   "cell_type": "code",
   "execution_count": 4,
   "metadata": {},
   "outputs": [
    {
     "data": {
      "text/html": [
       "<div>\n",
       "<style scoped>\n",
       "    .dataframe tbody tr th:only-of-type {\n",
       "        vertical-align: middle;\n",
       "    }\n",
       "\n",
       "    .dataframe tbody tr th {\n",
       "        vertical-align: top;\n",
       "    }\n",
       "\n",
       "    .dataframe thead th {\n",
       "        text-align: right;\n",
       "    }\n",
       "</style>\n",
       "<table border=\"1\" class=\"dataframe\">\n",
       "  <thead>\n",
       "    <tr style=\"text-align: right;\">\n",
       "      <th></th>\n",
       "      <th>attribute</th>\n",
       "      <th>information_level</th>\n",
       "      <th>type</th>\n",
       "      <th>missing_or_unknown</th>\n",
       "    </tr>\n",
       "  </thead>\n",
       "  <tbody>\n",
       "    <tr>\n",
       "      <th>0</th>\n",
       "      <td>AGER_TYP</td>\n",
       "      <td>person</td>\n",
       "      <td>categorical</td>\n",
       "      <td>[-1,0]</td>\n",
       "    </tr>\n",
       "    <tr>\n",
       "      <th>1</th>\n",
       "      <td>ALTERSKATEGORIE_GROB</td>\n",
       "      <td>person</td>\n",
       "      <td>ordinal</td>\n",
       "      <td>[-1,0,9]</td>\n",
       "    </tr>\n",
       "    <tr>\n",
       "      <th>2</th>\n",
       "      <td>ANREDE_KZ</td>\n",
       "      <td>person</td>\n",
       "      <td>categorical</td>\n",
       "      <td>[-1,0]</td>\n",
       "    </tr>\n",
       "    <tr>\n",
       "      <th>3</th>\n",
       "      <td>CJT_GESAMTTYP</td>\n",
       "      <td>person</td>\n",
       "      <td>categorical</td>\n",
       "      <td>[0]</td>\n",
       "    </tr>\n",
       "    <tr>\n",
       "      <th>4</th>\n",
       "      <td>FINANZ_MINIMALIST</td>\n",
       "      <td>person</td>\n",
       "      <td>ordinal</td>\n",
       "      <td>[-1]</td>\n",
       "    </tr>\n",
       "  </tbody>\n",
       "</table>\n",
       "</div>"
      ],
      "text/plain": [
       "              attribute information_level         type missing_or_unknown\n",
       "0              AGER_TYP            person  categorical             [-1,0]\n",
       "1  ALTERSKATEGORIE_GROB            person      ordinal           [-1,0,9]\n",
       "2             ANREDE_KZ            person  categorical             [-1,0]\n",
       "3         CJT_GESAMTTYP            person  categorical                [0]\n",
       "4     FINANZ_MINIMALIST            person      ordinal               [-1]"
      ]
     },
     "execution_count": 4,
     "metadata": {},
     "output_type": "execute_result"
    }
   ],
   "source": [
    "feat_info.head()"
   ]
  },
  {
   "cell_type": "code",
   "execution_count": 5,
   "metadata": {},
   "outputs": [
    {
     "name": "stdout",
     "output_type": "stream",
     "text": [
      "<class 'pandas.core.frame.DataFrame'>\n",
      "RangeIndex: 891221 entries, 0 to 891220\n",
      "Data columns (total 85 columns):\n",
      "AGER_TYP                 891221 non-null int64\n",
      "ALTERSKATEGORIE_GROB     891221 non-null int64\n",
      "ANREDE_KZ                891221 non-null int64\n",
      "CJT_GESAMTTYP            886367 non-null float64\n",
      "FINANZ_MINIMALIST        891221 non-null int64\n",
      "FINANZ_SPARER            891221 non-null int64\n",
      "FINANZ_VORSORGER         891221 non-null int64\n",
      "FINANZ_ANLEGER           891221 non-null int64\n",
      "FINANZ_UNAUFFAELLIGER    891221 non-null int64\n",
      "FINANZ_HAUSBAUER         891221 non-null int64\n",
      "FINANZTYP                891221 non-null int64\n",
      "GEBURTSJAHR              891221 non-null int64\n",
      "GFK_URLAUBERTYP          886367 non-null float64\n",
      "GREEN_AVANTGARDE         891221 non-null int64\n",
      "HEALTH_TYP               891221 non-null int64\n",
      "LP_LEBENSPHASE_FEIN      886367 non-null float64\n",
      "LP_LEBENSPHASE_GROB      886367 non-null float64\n",
      "LP_FAMILIE_FEIN          886367 non-null float64\n",
      "LP_FAMILIE_GROB          886367 non-null float64\n",
      "LP_STATUS_FEIN           886367 non-null float64\n",
      "LP_STATUS_GROB           886367 non-null float64\n",
      "NATIONALITAET_KZ         891221 non-null int64\n",
      "PRAEGENDE_JUGENDJAHRE    891221 non-null int64\n",
      "RETOURTYP_BK_S           886367 non-null float64\n",
      "SEMIO_SOZ                891221 non-null int64\n",
      "SEMIO_FAM                891221 non-null int64\n",
      "SEMIO_REL                891221 non-null int64\n",
      "SEMIO_MAT                891221 non-null int64\n",
      "SEMIO_VERT               891221 non-null int64\n",
      "SEMIO_LUST               891221 non-null int64\n",
      "SEMIO_ERL                891221 non-null int64\n",
      "SEMIO_KULT               891221 non-null int64\n",
      "SEMIO_RAT                891221 non-null int64\n",
      "SEMIO_KRIT               891221 non-null int64\n",
      "SEMIO_DOM                891221 non-null int64\n",
      "SEMIO_KAEM               891221 non-null int64\n",
      "SEMIO_PFLICHT            891221 non-null int64\n",
      "SEMIO_TRADV              891221 non-null int64\n",
      "SHOPPER_TYP              891221 non-null int64\n",
      "SOHO_KZ                  817722 non-null float64\n",
      "TITEL_KZ                 817722 non-null float64\n",
      "VERS_TYP                 891221 non-null int64\n",
      "ZABEOTYP                 891221 non-null int64\n",
      "ALTER_HH                 817722 non-null float64\n",
      "ANZ_PERSONEN             817722 non-null float64\n",
      "ANZ_TITEL                817722 non-null float64\n",
      "HH_EINKOMMEN_SCORE       872873 non-null float64\n",
      "KK_KUNDENTYP             306609 non-null float64\n",
      "W_KEIT_KIND_HH           783619 non-null float64\n",
      "WOHNDAUER_2008           817722 non-null float64\n",
      "ANZ_HAUSHALTE_AKTIV      798073 non-null float64\n",
      "ANZ_HH_TITEL             794213 non-null float64\n",
      "GEBAEUDETYP              798073 non-null float64\n",
      "KONSUMNAEHE              817252 non-null float64\n",
      "MIN_GEBAEUDEJAHR         798073 non-null float64\n",
      "OST_WEST_KZ              798073 non-null object\n",
      "WOHNLAGE                 798073 non-null float64\n",
      "CAMEO_DEUG_2015          792242 non-null object\n",
      "CAMEO_DEU_2015           792242 non-null object\n",
      "CAMEO_INTL_2015          792242 non-null object\n",
      "KBA05_ANTG1              757897 non-null float64\n",
      "KBA05_ANTG2              757897 non-null float64\n",
      "KBA05_ANTG3              757897 non-null float64\n",
      "KBA05_ANTG4              757897 non-null float64\n",
      "KBA05_BAUMAX             757897 non-null float64\n",
      "KBA05_GBZ                757897 non-null float64\n",
      "BALLRAUM                 797481 non-null float64\n",
      "EWDICHTE                 797481 non-null float64\n",
      "INNENSTADT               797481 non-null float64\n",
      "GEBAEUDETYP_RASTER       798066 non-null float64\n",
      "KKK                      770025 non-null float64\n",
      "MOBI_REGIO               757897 non-null float64\n",
      "ONLINE_AFFINITAET        886367 non-null float64\n",
      "REGIOTYP                 770025 non-null float64\n",
      "KBA13_ANZAHL_PKW         785421 non-null float64\n",
      "PLZ8_ANTG1               774706 non-null float64\n",
      "PLZ8_ANTG2               774706 non-null float64\n",
      "PLZ8_ANTG3               774706 non-null float64\n",
      "PLZ8_ANTG4               774706 non-null float64\n",
      "PLZ8_BAUMAX              774706 non-null float64\n",
      "PLZ8_HHZ                 774706 non-null float64\n",
      "PLZ8_GBZ                 774706 non-null float64\n",
      "ARBEIT                   794005 non-null float64\n",
      "ORTSGR_KLS9              794005 non-null float64\n",
      "RELAT_AB                 794005 non-null float64\n",
      "dtypes: float64(49), int64(32), object(4)\n",
      "memory usage: 578.0+ MB\n"
     ]
    }
   ],
   "source": [
    "azdias.info()"
   ]
  },
  {
   "cell_type": "code",
   "execution_count": 6,
   "metadata": {},
   "outputs": [
    {
     "name": "stdout",
     "output_type": "stream",
     "text": [
      "<class 'pandas.core.frame.DataFrame'>\n",
      "RangeIndex: 85 entries, 0 to 84\n",
      "Data columns (total 4 columns):\n",
      "attribute             85 non-null object\n",
      "information_level     85 non-null object\n",
      "type                  85 non-null object\n",
      "missing_or_unknown    85 non-null object\n",
      "dtypes: object(4)\n",
      "memory usage: 2.7+ KB\n"
     ]
    }
   ],
   "source": [
    "feat_info.info()"
   ]
  },
  {
   "cell_type": "code",
   "execution_count": 7,
   "metadata": {},
   "outputs": [
    {
     "data": {
      "text/html": [
       "<div>\n",
       "<style scoped>\n",
       "    .dataframe tbody tr th:only-of-type {\n",
       "        vertical-align: middle;\n",
       "    }\n",
       "\n",
       "    .dataframe tbody tr th {\n",
       "        vertical-align: top;\n",
       "    }\n",
       "\n",
       "    .dataframe thead th {\n",
       "        text-align: right;\n",
       "    }\n",
       "</style>\n",
       "<table border=\"1\" class=\"dataframe\">\n",
       "  <thead>\n",
       "    <tr style=\"text-align: right;\">\n",
       "      <th></th>\n",
       "      <th>AGER_TYP</th>\n",
       "      <th>ALTERSKATEGORIE_GROB</th>\n",
       "      <th>ANREDE_KZ</th>\n",
       "      <th>CJT_GESAMTTYP</th>\n",
       "      <th>FINANZ_MINIMALIST</th>\n",
       "      <th>FINANZ_SPARER</th>\n",
       "      <th>FINANZ_VORSORGER</th>\n",
       "      <th>FINANZ_ANLEGER</th>\n",
       "      <th>FINANZ_UNAUFFAELLIGER</th>\n",
       "      <th>FINANZ_HAUSBAUER</th>\n",
       "      <th>...</th>\n",
       "      <th>PLZ8_ANTG1</th>\n",
       "      <th>PLZ8_ANTG2</th>\n",
       "      <th>PLZ8_ANTG3</th>\n",
       "      <th>PLZ8_ANTG4</th>\n",
       "      <th>PLZ8_BAUMAX</th>\n",
       "      <th>PLZ8_HHZ</th>\n",
       "      <th>PLZ8_GBZ</th>\n",
       "      <th>ARBEIT</th>\n",
       "      <th>ORTSGR_KLS9</th>\n",
       "      <th>RELAT_AB</th>\n",
       "    </tr>\n",
       "  </thead>\n",
       "  <tbody>\n",
       "    <tr>\n",
       "      <th>count</th>\n",
       "      <td>891221.000000</td>\n",
       "      <td>891221.000000</td>\n",
       "      <td>891221.000000</td>\n",
       "      <td>886367.000000</td>\n",
       "      <td>891221.000000</td>\n",
       "      <td>891221.000000</td>\n",
       "      <td>891221.000000</td>\n",
       "      <td>891221.000000</td>\n",
       "      <td>891221.000000</td>\n",
       "      <td>891221.000000</td>\n",
       "      <td>...</td>\n",
       "      <td>774706.000000</td>\n",
       "      <td>774706.000000</td>\n",
       "      <td>774706.000000</td>\n",
       "      <td>774706.000000</td>\n",
       "      <td>774706.000000</td>\n",
       "      <td>774706.000000</td>\n",
       "      <td>774706.000000</td>\n",
       "      <td>794005.000000</td>\n",
       "      <td>794005.000000</td>\n",
       "      <td>794005.00000</td>\n",
       "    </tr>\n",
       "    <tr>\n",
       "      <th>mean</th>\n",
       "      <td>-0.358435</td>\n",
       "      <td>2.777398</td>\n",
       "      <td>1.522098</td>\n",
       "      <td>3.632838</td>\n",
       "      <td>3.074528</td>\n",
       "      <td>2.821039</td>\n",
       "      <td>3.401106</td>\n",
       "      <td>3.033328</td>\n",
       "      <td>2.874167</td>\n",
       "      <td>3.075121</td>\n",
       "      <td>...</td>\n",
       "      <td>2.253330</td>\n",
       "      <td>2.801858</td>\n",
       "      <td>1.595426</td>\n",
       "      <td>0.699166</td>\n",
       "      <td>1.943913</td>\n",
       "      <td>3.612821</td>\n",
       "      <td>3.381087</td>\n",
       "      <td>3.167854</td>\n",
       "      <td>5.293002</td>\n",
       "      <td>3.07222</td>\n",
       "    </tr>\n",
       "    <tr>\n",
       "      <th>std</th>\n",
       "      <td>1.198724</td>\n",
       "      <td>1.068775</td>\n",
       "      <td>0.499512</td>\n",
       "      <td>1.595021</td>\n",
       "      <td>1.321055</td>\n",
       "      <td>1.464749</td>\n",
       "      <td>1.322134</td>\n",
       "      <td>1.529603</td>\n",
       "      <td>1.486731</td>\n",
       "      <td>1.353248</td>\n",
       "      <td>...</td>\n",
       "      <td>0.972008</td>\n",
       "      <td>0.920309</td>\n",
       "      <td>0.986736</td>\n",
       "      <td>0.727137</td>\n",
       "      <td>1.459654</td>\n",
       "      <td>0.973967</td>\n",
       "      <td>1.111598</td>\n",
       "      <td>1.002376</td>\n",
       "      <td>2.303739</td>\n",
       "      <td>1.36298</td>\n",
       "    </tr>\n",
       "    <tr>\n",
       "      <th>min</th>\n",
       "      <td>-1.000000</td>\n",
       "      <td>1.000000</td>\n",
       "      <td>1.000000</td>\n",
       "      <td>1.000000</td>\n",
       "      <td>1.000000</td>\n",
       "      <td>1.000000</td>\n",
       "      <td>1.000000</td>\n",
       "      <td>1.000000</td>\n",
       "      <td>1.000000</td>\n",
       "      <td>1.000000</td>\n",
       "      <td>...</td>\n",
       "      <td>0.000000</td>\n",
       "      <td>0.000000</td>\n",
       "      <td>0.000000</td>\n",
       "      <td>0.000000</td>\n",
       "      <td>1.000000</td>\n",
       "      <td>1.000000</td>\n",
       "      <td>1.000000</td>\n",
       "      <td>1.000000</td>\n",
       "      <td>0.000000</td>\n",
       "      <td>1.00000</td>\n",
       "    </tr>\n",
       "    <tr>\n",
       "      <th>25%</th>\n",
       "      <td>-1.000000</td>\n",
       "      <td>2.000000</td>\n",
       "      <td>1.000000</td>\n",
       "      <td>2.000000</td>\n",
       "      <td>2.000000</td>\n",
       "      <td>1.000000</td>\n",
       "      <td>3.000000</td>\n",
       "      <td>2.000000</td>\n",
       "      <td>2.000000</td>\n",
       "      <td>2.000000</td>\n",
       "      <td>...</td>\n",
       "      <td>1.000000</td>\n",
       "      <td>2.000000</td>\n",
       "      <td>1.000000</td>\n",
       "      <td>0.000000</td>\n",
       "      <td>1.000000</td>\n",
       "      <td>3.000000</td>\n",
       "      <td>3.000000</td>\n",
       "      <td>3.000000</td>\n",
       "      <td>4.000000</td>\n",
       "      <td>2.00000</td>\n",
       "    </tr>\n",
       "    <tr>\n",
       "      <th>50%</th>\n",
       "      <td>-1.000000</td>\n",
       "      <td>3.000000</td>\n",
       "      <td>2.000000</td>\n",
       "      <td>4.000000</td>\n",
       "      <td>3.000000</td>\n",
       "      <td>3.000000</td>\n",
       "      <td>3.000000</td>\n",
       "      <td>3.000000</td>\n",
       "      <td>3.000000</td>\n",
       "      <td>3.000000</td>\n",
       "      <td>...</td>\n",
       "      <td>2.000000</td>\n",
       "      <td>3.000000</td>\n",
       "      <td>2.000000</td>\n",
       "      <td>1.000000</td>\n",
       "      <td>1.000000</td>\n",
       "      <td>4.000000</td>\n",
       "      <td>3.000000</td>\n",
       "      <td>3.000000</td>\n",
       "      <td>5.000000</td>\n",
       "      <td>3.00000</td>\n",
       "    </tr>\n",
       "    <tr>\n",
       "      <th>75%</th>\n",
       "      <td>-1.000000</td>\n",
       "      <td>4.000000</td>\n",
       "      <td>2.000000</td>\n",
       "      <td>5.000000</td>\n",
       "      <td>4.000000</td>\n",
       "      <td>4.000000</td>\n",
       "      <td>5.000000</td>\n",
       "      <td>5.000000</td>\n",
       "      <td>4.000000</td>\n",
       "      <td>4.000000</td>\n",
       "      <td>...</td>\n",
       "      <td>3.000000</td>\n",
       "      <td>3.000000</td>\n",
       "      <td>2.000000</td>\n",
       "      <td>1.000000</td>\n",
       "      <td>3.000000</td>\n",
       "      <td>4.000000</td>\n",
       "      <td>4.000000</td>\n",
       "      <td>4.000000</td>\n",
       "      <td>7.000000</td>\n",
       "      <td>4.00000</td>\n",
       "    </tr>\n",
       "    <tr>\n",
       "      <th>max</th>\n",
       "      <td>3.000000</td>\n",
       "      <td>9.000000</td>\n",
       "      <td>2.000000</td>\n",
       "      <td>6.000000</td>\n",
       "      <td>5.000000</td>\n",
       "      <td>5.000000</td>\n",
       "      <td>5.000000</td>\n",
       "      <td>5.000000</td>\n",
       "      <td>5.000000</td>\n",
       "      <td>5.000000</td>\n",
       "      <td>...</td>\n",
       "      <td>4.000000</td>\n",
       "      <td>4.000000</td>\n",
       "      <td>3.000000</td>\n",
       "      <td>2.000000</td>\n",
       "      <td>5.000000</td>\n",
       "      <td>5.000000</td>\n",
       "      <td>5.000000</td>\n",
       "      <td>9.000000</td>\n",
       "      <td>9.000000</td>\n",
       "      <td>9.00000</td>\n",
       "    </tr>\n",
       "  </tbody>\n",
       "</table>\n",
       "<p>8 rows × 81 columns</p>\n",
       "</div>"
      ],
      "text/plain": [
       "            AGER_TYP  ALTERSKATEGORIE_GROB      ANREDE_KZ  CJT_GESAMTTYP  \\\n",
       "count  891221.000000         891221.000000  891221.000000  886367.000000   \n",
       "mean       -0.358435              2.777398       1.522098       3.632838   \n",
       "std         1.198724              1.068775       0.499512       1.595021   \n",
       "min        -1.000000              1.000000       1.000000       1.000000   \n",
       "25%        -1.000000              2.000000       1.000000       2.000000   \n",
       "50%        -1.000000              3.000000       2.000000       4.000000   \n",
       "75%        -1.000000              4.000000       2.000000       5.000000   \n",
       "max         3.000000              9.000000       2.000000       6.000000   \n",
       "\n",
       "       FINANZ_MINIMALIST  FINANZ_SPARER  FINANZ_VORSORGER  FINANZ_ANLEGER  \\\n",
       "count      891221.000000  891221.000000     891221.000000   891221.000000   \n",
       "mean            3.074528       2.821039          3.401106        3.033328   \n",
       "std             1.321055       1.464749          1.322134        1.529603   \n",
       "min             1.000000       1.000000          1.000000        1.000000   \n",
       "25%             2.000000       1.000000          3.000000        2.000000   \n",
       "50%             3.000000       3.000000          3.000000        3.000000   \n",
       "75%             4.000000       4.000000          5.000000        5.000000   \n",
       "max             5.000000       5.000000          5.000000        5.000000   \n",
       "\n",
       "       FINANZ_UNAUFFAELLIGER  FINANZ_HAUSBAUER      ...          PLZ8_ANTG1  \\\n",
       "count          891221.000000     891221.000000      ...       774706.000000   \n",
       "mean                2.874167          3.075121      ...            2.253330   \n",
       "std                 1.486731          1.353248      ...            0.972008   \n",
       "min                 1.000000          1.000000      ...            0.000000   \n",
       "25%                 2.000000          2.000000      ...            1.000000   \n",
       "50%                 3.000000          3.000000      ...            2.000000   \n",
       "75%                 4.000000          4.000000      ...            3.000000   \n",
       "max                 5.000000          5.000000      ...            4.000000   \n",
       "\n",
       "          PLZ8_ANTG2     PLZ8_ANTG3     PLZ8_ANTG4    PLZ8_BAUMAX  \\\n",
       "count  774706.000000  774706.000000  774706.000000  774706.000000   \n",
       "mean        2.801858       1.595426       0.699166       1.943913   \n",
       "std         0.920309       0.986736       0.727137       1.459654   \n",
       "min         0.000000       0.000000       0.000000       1.000000   \n",
       "25%         2.000000       1.000000       0.000000       1.000000   \n",
       "50%         3.000000       2.000000       1.000000       1.000000   \n",
       "75%         3.000000       2.000000       1.000000       3.000000   \n",
       "max         4.000000       3.000000       2.000000       5.000000   \n",
       "\n",
       "            PLZ8_HHZ       PLZ8_GBZ         ARBEIT    ORTSGR_KLS9  \\\n",
       "count  774706.000000  774706.000000  794005.000000  794005.000000   \n",
       "mean        3.612821       3.381087       3.167854       5.293002   \n",
       "std         0.973967       1.111598       1.002376       2.303739   \n",
       "min         1.000000       1.000000       1.000000       0.000000   \n",
       "25%         3.000000       3.000000       3.000000       4.000000   \n",
       "50%         4.000000       3.000000       3.000000       5.000000   \n",
       "75%         4.000000       4.000000       4.000000       7.000000   \n",
       "max         5.000000       5.000000       9.000000       9.000000   \n",
       "\n",
       "           RELAT_AB  \n",
       "count  794005.00000  \n",
       "mean        3.07222  \n",
       "std         1.36298  \n",
       "min         1.00000  \n",
       "25%         2.00000  \n",
       "50%         3.00000  \n",
       "75%         4.00000  \n",
       "max         9.00000  \n",
       "\n",
       "[8 rows x 81 columns]"
      ]
     },
     "execution_count": 7,
     "metadata": {},
     "output_type": "execute_result"
    }
   ],
   "source": [
    "azdias.describe()"
   ]
  },
  {
   "cell_type": "code",
   "execution_count": 8,
   "metadata": {},
   "outputs": [
    {
     "data": {
      "text/html": [
       "<div>\n",
       "<style scoped>\n",
       "    .dataframe tbody tr th:only-of-type {\n",
       "        vertical-align: middle;\n",
       "    }\n",
       "\n",
       "    .dataframe tbody tr th {\n",
       "        vertical-align: top;\n",
       "    }\n",
       "\n",
       "    .dataframe thead th {\n",
       "        text-align: right;\n",
       "    }\n",
       "</style>\n",
       "<table border=\"1\" class=\"dataframe\">\n",
       "  <thead>\n",
       "    <tr style=\"text-align: right;\">\n",
       "      <th></th>\n",
       "      <th>attribute</th>\n",
       "      <th>information_level</th>\n",
       "      <th>type</th>\n",
       "      <th>missing_or_unknown</th>\n",
       "    </tr>\n",
       "  </thead>\n",
       "  <tbody>\n",
       "    <tr>\n",
       "      <th>count</th>\n",
       "      <td>85</td>\n",
       "      <td>85</td>\n",
       "      <td>85</td>\n",
       "      <td>85</td>\n",
       "    </tr>\n",
       "    <tr>\n",
       "      <th>unique</th>\n",
       "      <td>85</td>\n",
       "      <td>9</td>\n",
       "      <td>5</td>\n",
       "      <td>9</td>\n",
       "    </tr>\n",
       "    <tr>\n",
       "      <th>top</th>\n",
       "      <td>KBA05_BAUMAX</td>\n",
       "      <td>person</td>\n",
       "      <td>ordinal</td>\n",
       "      <td>[-1]</td>\n",
       "    </tr>\n",
       "    <tr>\n",
       "      <th>freq</th>\n",
       "      <td>1</td>\n",
       "      <td>43</td>\n",
       "      <td>49</td>\n",
       "      <td>26</td>\n",
       "    </tr>\n",
       "  </tbody>\n",
       "</table>\n",
       "</div>"
      ],
      "text/plain": [
       "           attribute information_level     type missing_or_unknown\n",
       "count             85                85       85                 85\n",
       "unique            85                 9        5                  9\n",
       "top     KBA05_BAUMAX            person  ordinal               [-1]\n",
       "freq               1                43       49                 26"
      ]
     },
     "execution_count": 8,
     "metadata": {},
     "output_type": "execute_result"
    }
   ],
   "source": [
    "feat_info.describe()"
   ]
  },
  {
   "cell_type": "code",
   "execution_count": 9,
   "metadata": {},
   "outputs": [
    {
     "data": {
      "text/plain": [
       "4896838"
      ]
     },
     "execution_count": 9,
     "metadata": {},
     "output_type": "execute_result"
    }
   ],
   "source": [
    "azdias.isnull().sum().sum()"
   ]
  },
  {
   "cell_type": "markdown",
   "metadata": {},
   "source": [
    "> **Tip**: Add additional cells to keep everything in reasonably-sized chunks! Keyboard shortcut `esc --> a` (press escape to enter command mode, then press the 'A' key) adds a new cell before the active cell, and `esc --> b` adds a new cell after the active cell. If you need to convert an active cell to a markdown cell, use `esc --> m` and to convert to a code cell, use `esc --> y`. \n",
    "\n",
    "## Step 1: Preprocessing\n",
    "\n",
    "### Step 1.1: Assess Missing Data\n",
    "\n",
    "The feature summary file contains a summary of properties for each demographics data column. You will use this file to help you make cleaning decisions during this stage of the project. First of all, you should assess the demographics data in terms of missing data. Pay attention to the following points as you perform your analysis, and take notes on what you observe. Make sure that you fill in the **Discussion** cell with your findings and decisions at the end of each step that has one!\n",
    "\n",
    "#### Step 1.1.1: Convert Missing Value Codes to NaNs\n",
    "The fourth column of the feature attributes summary (loaded in above as `feat_info`) documents the codes from the data dictionary that indicate missing or unknown data. While the file encodes this as a list (e.g. `[-1,0]`), this will get read in as a string object. You'll need to do a little bit of parsing to make use of it to identify and clean the data. Convert data that matches a 'missing' or 'unknown' value code into a numpy NaN value. You might want to see how much data takes on a 'missing' or 'unknown' code, and how much data is naturally missing, as a point of interest.\n",
    "\n",
    "**As one more reminder, you are encouraged to add additional cells to break up your analysis into manageable chunks.**"
   ]
  },
  {
   "cell_type": "code",
   "execution_count": 10,
   "metadata": {},
   "outputs": [],
   "source": [
    "# Identify missing or unknown data values and convert them to NaNs."
   ]
  },
  {
   "cell_type": "code",
   "execution_count": 11,
   "metadata": {},
   "outputs": [],
   "source": [
    "for col_counter, column in enumerate(azdias.columns):\n",
    "    check_1, check_2 = 'X','XX'\n",
    "    missing_or_unknown_values = feat_info['missing_or_unknown'][col_counter]\n",
    "    if (check_1 in missing_or_unknown_values[1:-1].split(',')) or (check_2 in missing_or_unknown_values[1:-1].split(',')):\n",
    "        missing_or_unknown_values = missing_or_unknown_values[1:-1].split(',')\n",
    "    else:\n",
    "        missing_or_unknown_values = eval(missing_or_unknown_values)\n",
    "    for value in missing_or_unknown_values:\n",
    "        azdias[column].replace(value,np.nan,inplace=True)"
   ]
  },
  {
   "cell_type": "code",
   "execution_count": 12,
   "metadata": {},
   "outputs": [],
   "source": [
    "# replace all missing values with NaN\n",
    "azdias.replace('',np.nan,inplace=True)"
   ]
  },
  {
   "cell_type": "code",
   "execution_count": 13,
   "metadata": {},
   "outputs": [
    {
     "data": {
      "text/plain": [
       "8373929"
      ]
     },
     "execution_count": 13,
     "metadata": {},
     "output_type": "execute_result"
    }
   ],
   "source": [
    "# check; if the number of the null increased then the conversion is done right\n",
    "azdias.isnull().sum().sum()"
   ]
  },
  {
   "cell_type": "code",
   "execution_count": 14,
   "metadata": {},
   "outputs": [
    {
     "name": "stdout",
     "output_type": "stream",
     "text": [
      "AGER_TYP [-1,0]\n"
     ]
    }
   ],
   "source": [
    "print(azdias.columns[0], feat_info['missing_or_unknown'][0])"
   ]
  },
  {
   "cell_type": "code",
   "execution_count": 15,
   "metadata": {},
   "outputs": [
    {
     "data": {
      "text/plain": [
       "0"
      ]
     },
     "execution_count": 15,
     "metadata": {},
     "output_type": "execute_result"
    }
   ],
   "source": [
    "# another check; if the sum equals zero then the conversion is done right\n",
    "(azdias['AGER_TYP'] == 0).sum()"
   ]
  },
  {
   "cell_type": "code",
   "execution_count": 16,
   "metadata": {},
   "outputs": [
    {
     "name": "stdout",
     "output_type": "stream",
     "text": [
      "CAMEO_DEUG_2015 [-1,X]\n"
     ]
    }
   ],
   "source": [
    "print(azdias.columns[57], feat_info['missing_or_unknown'][57])"
   ]
  },
  {
   "cell_type": "code",
   "execution_count": 17,
   "metadata": {},
   "outputs": [
    {
     "data": {
      "text/plain": [
       "0"
      ]
     },
     "execution_count": 17,
     "metadata": {},
     "output_type": "execute_result"
    }
   ],
   "source": [
    "# another check; if the sum equals zero then the conversion is done right\n",
    "(azdias['CAMEO_DEUG_2015'] == 'X').sum()"
   ]
  },
  {
   "cell_type": "code",
   "execution_count": null,
   "metadata": {},
   "outputs": [],
   "source": []
  },
  {
   "cell_type": "markdown",
   "metadata": {},
   "source": [
    "#### Step 1.1.2: Assess Missing Data in Each Column\n",
    "\n",
    "How much missing data is present in each column? There are a few columns that are outliers in terms of the proportion of values that are missing. You will want to use matplotlib's [`hist()`](https://matplotlib.org/api/_as_gen/matplotlib.pyplot.hist.html) function to visualize the distribution of missing value counts to find these columns. Identify and document these columns. While some of these columns might have justifications for keeping or re-encoding the data, for this project you should just remove them from the dataframe. (Feel free to make remarks about these outlier columns in the discussion, however!)\n",
    "\n",
    "For the remaining features, are there any patterns in which columns have, or share, missing data?"
   ]
  },
  {
   "cell_type": "code",
   "execution_count": 18,
   "metadata": {},
   "outputs": [
    {
     "data": {
      "text/plain": [
       "AGER_TYP        76.955435\n",
       "GEBURTSJAHR     44.020282\n",
       "TITEL_KZ        99.757636\n",
       "ALTER_HH        34.813699\n",
       "KK_KUNDENTYP    65.596749\n",
       "KBA05_BAUMAX    53.468668\n",
       "dtype: float64"
      ]
     },
     "execution_count": 18,
     "metadata": {},
     "output_type": "execute_result"
    }
   ],
   "source": [
    "# Perform an assessment of how much missing data there is in each column of the\n",
    "# dataset.\n",
    "outlier = azdias.isnull().sum()\n",
    "outlier_percentage = (outlier / len(azdias)) * 100\n",
    "outlier_percentage[outlier_percentage>30]"
   ]
  },
  {
   "cell_type": "code",
   "execution_count": 19,
   "metadata": {},
   "outputs": [
    {
     "data": {
      "text/plain": [
       "[685843, 2881, 0, 4854, 0, 0, 0, 0, 0, 0]"
      ]
     },
     "execution_count": 19,
     "metadata": {},
     "output_type": "execute_result"
    }
   ],
   "source": [
    "missing_values = []\n",
    "for column in azdias.columns:\n",
    "    missing_values.append(azdias[column].isnull().sum())\n",
    "missing_values[:10]"
   ]
  },
  {
   "cell_type": "code",
   "execution_count": 20,
   "metadata": {},
   "outputs": [
    {
     "data": {
      "image/png": "[encoded data removed]",
      "text/plain": [
       "<matplotlib.figure.Figure at 0x7f361cded4a8>"
      ]
     },
     "metadata": {
      "needs_background": "light"
     },
     "output_type": "display_data"
    }
   ],
   "source": [
    "# Investigate patterns in the amount of missing data in each column.\n",
    "plt.rcParams['figure.figsize'] = (20,10)\n",
    "plt.hist(missing_values,bins=50, align=('mid'), label=azdias.columns)\n",
    "plt.show()"
   ]
  },
  {
   "cell_type": "code",
   "execution_count": 21,
   "metadata": {},
   "outputs": [
    {
     "data": {
      "image/png": "[encoded data removed]",
      "text/plain": [
       "<matplotlib.figure.Figure at 0x7f361edd3cc0>"
      ]
     },
     "metadata": {
      "needs_background": "light"
     },
     "output_type": "display_data"
    }
   ],
   "source": [
    "plt.rcParams['figure.figsize'] = (20,20)\n",
    "plt.barh(azdias.columns,missing_values)\n",
    "plt.show()"
   ]
  },
  {
   "cell_type": "code",
   "execution_count": 22,
   "metadata": {},
   "outputs": [],
   "source": [
    "# Remove the outlier columns from the dataset. (You'll perform other data\n",
    "# engineering tasks such as re-encoding and imputation later.)\n",
    "new_azdias = azdias.drop(['AGER_TYP', 'GEBURTSJAHR', 'TITEL_KZ', 'ALTER_HH', 'KK_KUNDENTYP', 'KBA05_BAUMAX'], axis=1)"
   ]
  },
  {
   "cell_type": "code",
   "execution_count": 23,
   "metadata": {},
   "outputs": [
    {
     "data": {
      "text/html": [
       "<div>\n",
       "<style scoped>\n",
       "    .dataframe tbody tr th:only-of-type {\n",
       "        vertical-align: middle;\n",
       "    }\n",
       "\n",
       "    .dataframe tbody tr th {\n",
       "        vertical-align: top;\n",
       "    }\n",
       "\n",
       "    .dataframe thead th {\n",
       "        text-align: right;\n",
       "    }\n",
       "</style>\n",
       "<table border=\"1\" class=\"dataframe\">\n",
       "  <thead>\n",
       "    <tr style=\"text-align: right;\">\n",
       "      <th></th>\n",
       "      <th>ALTERSKATEGORIE_GROB</th>\n",
       "      <th>ANREDE_KZ</th>\n",
       "      <th>CJT_GESAMTTYP</th>\n",
       "      <th>FINANZ_MINIMALIST</th>\n",
       "      <th>FINANZ_SPARER</th>\n",
       "      <th>FINANZ_VORSORGER</th>\n",
       "      <th>FINANZ_ANLEGER</th>\n",
       "      <th>FINANZ_UNAUFFAELLIGER</th>\n",
       "      <th>FINANZ_HAUSBAUER</th>\n",
       "      <th>FINANZTYP</th>\n",
       "      <th>...</th>\n",
       "      <th>PLZ8_ANTG1</th>\n",
       "      <th>PLZ8_ANTG2</th>\n",
       "      <th>PLZ8_ANTG3</th>\n",
       "      <th>PLZ8_ANTG4</th>\n",
       "      <th>PLZ8_BAUMAX</th>\n",
       "      <th>PLZ8_HHZ</th>\n",
       "      <th>PLZ8_GBZ</th>\n",
       "      <th>ARBEIT</th>\n",
       "      <th>ORTSGR_KLS9</th>\n",
       "      <th>RELAT_AB</th>\n",
       "    </tr>\n",
       "  </thead>\n",
       "  <tbody>\n",
       "    <tr>\n",
       "      <th>0</th>\n",
       "      <td>2.0</td>\n",
       "      <td>1</td>\n",
       "      <td>2.0</td>\n",
       "      <td>3</td>\n",
       "      <td>4</td>\n",
       "      <td>3</td>\n",
       "      <td>5</td>\n",
       "      <td>5</td>\n",
       "      <td>3</td>\n",
       "      <td>4</td>\n",
       "      <td>...</td>\n",
       "      <td>NaN</td>\n",
       "      <td>NaN</td>\n",
       "      <td>NaN</td>\n",
       "      <td>NaN</td>\n",
       "      <td>NaN</td>\n",
       "      <td>NaN</td>\n",
       "      <td>NaN</td>\n",
       "      <td>NaN</td>\n",
       "      <td>NaN</td>\n",
       "      <td>NaN</td>\n",
       "    </tr>\n",
       "    <tr>\n",
       "      <th>1</th>\n",
       "      <td>1.0</td>\n",
       "      <td>2</td>\n",
       "      <td>5.0</td>\n",
       "      <td>1</td>\n",
       "      <td>5</td>\n",
       "      <td>2</td>\n",
       "      <td>5</td>\n",
       "      <td>4</td>\n",
       "      <td>5</td>\n",
       "      <td>1</td>\n",
       "      <td>...</td>\n",
       "      <td>2.0</td>\n",
       "      <td>3.0</td>\n",
       "      <td>2.0</td>\n",
       "      <td>1.0</td>\n",
       "      <td>1.0</td>\n",
       "      <td>5.0</td>\n",
       "      <td>4.0</td>\n",
       "      <td>3.0</td>\n",
       "      <td>5.0</td>\n",
       "      <td>4.0</td>\n",
       "    </tr>\n",
       "    <tr>\n",
       "      <th>2</th>\n",
       "      <td>3.0</td>\n",
       "      <td>2</td>\n",
       "      <td>3.0</td>\n",
       "      <td>1</td>\n",
       "      <td>4</td>\n",
       "      <td>1</td>\n",
       "      <td>2</td>\n",
       "      <td>3</td>\n",
       "      <td>5</td>\n",
       "      <td>1</td>\n",
       "      <td>...</td>\n",
       "      <td>3.0</td>\n",
       "      <td>3.0</td>\n",
       "      <td>1.0</td>\n",
       "      <td>0.0</td>\n",
       "      <td>1.0</td>\n",
       "      <td>4.0</td>\n",
       "      <td>4.0</td>\n",
       "      <td>3.0</td>\n",
       "      <td>5.0</td>\n",
       "      <td>2.0</td>\n",
       "    </tr>\n",
       "    <tr>\n",
       "      <th>3</th>\n",
       "      <td>4.0</td>\n",
       "      <td>2</td>\n",
       "      <td>2.0</td>\n",
       "      <td>4</td>\n",
       "      <td>2</td>\n",
       "      <td>5</td>\n",
       "      <td>2</td>\n",
       "      <td>1</td>\n",
       "      <td>2</td>\n",
       "      <td>6</td>\n",
       "      <td>...</td>\n",
       "      <td>2.0</td>\n",
       "      <td>2.0</td>\n",
       "      <td>2.0</td>\n",
       "      <td>0.0</td>\n",
       "      <td>1.0</td>\n",
       "      <td>3.0</td>\n",
       "      <td>4.0</td>\n",
       "      <td>2.0</td>\n",
       "      <td>3.0</td>\n",
       "      <td>3.0</td>\n",
       "    </tr>\n",
       "    <tr>\n",
       "      <th>4</th>\n",
       "      <td>3.0</td>\n",
       "      <td>1</td>\n",
       "      <td>5.0</td>\n",
       "      <td>4</td>\n",
       "      <td>3</td>\n",
       "      <td>4</td>\n",
       "      <td>1</td>\n",
       "      <td>3</td>\n",
       "      <td>2</td>\n",
       "      <td>5</td>\n",
       "      <td>...</td>\n",
       "      <td>2.0</td>\n",
       "      <td>4.0</td>\n",
       "      <td>2.0</td>\n",
       "      <td>1.0</td>\n",
       "      <td>2.0</td>\n",
       "      <td>3.0</td>\n",
       "      <td>3.0</td>\n",
       "      <td>4.0</td>\n",
       "      <td>6.0</td>\n",
       "      <td>5.0</td>\n",
       "    </tr>\n",
       "  </tbody>\n",
       "</table>\n",
       "<p>5 rows × 79 columns</p>\n",
       "</div>"
      ],
      "text/plain": [
       "   ALTERSKATEGORIE_GROB  ANREDE_KZ  CJT_GESAMTTYP  FINANZ_MINIMALIST  \\\n",
       "0                   2.0          1            2.0                  3   \n",
       "1                   1.0          2            5.0                  1   \n",
       "2                   3.0          2            3.0                  1   \n",
       "3                   4.0          2            2.0                  4   \n",
       "4                   3.0          1            5.0                  4   \n",
       "\n",
       "   FINANZ_SPARER  FINANZ_VORSORGER  FINANZ_ANLEGER  FINANZ_UNAUFFAELLIGER  \\\n",
       "0              4                 3               5                      5   \n",
       "1              5                 2               5                      4   \n",
       "2              4                 1               2                      3   \n",
       "3              2                 5               2                      1   \n",
       "4              3                 4               1                      3   \n",
       "\n",
       "   FINANZ_HAUSBAUER  FINANZTYP    ...     PLZ8_ANTG1  PLZ8_ANTG2  PLZ8_ANTG3  \\\n",
       "0                 3          4    ...            NaN         NaN         NaN   \n",
       "1                 5          1    ...            2.0         3.0         2.0   \n",
       "2                 5          1    ...            3.0         3.0         1.0   \n",
       "3                 2          6    ...            2.0         2.0         2.0   \n",
       "4                 2          5    ...            2.0         4.0         2.0   \n",
       "\n",
       "   PLZ8_ANTG4  PLZ8_BAUMAX  PLZ8_HHZ  PLZ8_GBZ  ARBEIT  ORTSGR_KLS9  RELAT_AB  \n",
       "0         NaN          NaN       NaN       NaN     NaN          NaN       NaN  \n",
       "1         1.0          1.0       5.0       4.0     3.0          5.0       4.0  \n",
       "2         0.0          1.0       4.0       4.0     3.0          5.0       2.0  \n",
       "3         0.0          1.0       3.0       4.0     2.0          3.0       3.0  \n",
       "4         1.0          2.0       3.0       3.0     4.0          6.0       5.0  \n",
       "\n",
       "[5 rows x 79 columns]"
      ]
     },
     "execution_count": 23,
     "metadata": {},
     "output_type": "execute_result"
    }
   ],
   "source": [
    "new_azdias.head()"
   ]
  },
  {
   "cell_type": "markdown",
   "metadata": {},
   "source": [
    "#### Discussion 1.1.2: Assess Missing Data in Each Column\n",
    "\n",
    "## Answer\n",
    "Looking at the bar and histogram plots, it is clear that there are some columns which are outliers in term of the amount of missing data. There are 6 columns which have more than 30 percent missing data. The rest of the data either not having any missing data or having less than 20 percent missing data. To sum up columns with more than 30 percent missing data have been deleted, and these columns are AGER_TYP, GEBURTSJAHR, TITEL_KZ, ALTER_HH, KK_KUNDENTYP, and KBA05_BAUMAX."
   ]
  },
  {
   "cell_type": "markdown",
   "metadata": {},
   "source": [
    "#### Step 1.1.3: Assess Missing Data in Each Row\n",
    "\n",
    "Now, you'll perform a similar assessment for the rows of the dataset. How much data is missing in each row? As with the columns, you should see some groups of points that have a very different numbers of missing values. Divide the data into two subsets: one for data points that are above some threshold for missing values, and a second subset for points below that threshold.\n",
    "\n",
    "In order to know what to do with the outlier rows, we should see if the distribution of data values on columns that are not missing data (or are missing very little data) are similar or different between the two groups. Select at least five of these columns and compare the distribution of values.\n",
    "- You can use seaborn's [`countplot()`](https://seaborn.pydata.org/generated/seaborn.countplot.html) function to create a bar chart of code frequencies and matplotlib's [`subplot()`](https://matplotlib.org/api/_as_gen/matplotlib.pyplot.subplot.html) function to put bar charts for the two subplots side by side.\n",
    "- To reduce repeated code, you might want to write a function that can perform this comparison, taking as one of its arguments a column to be compared.\n",
    "\n",
    "Depending on what you observe in your comparison, this will have implications on how you approach your conclusions later in the analysis. If the distributions of non-missing features look similar between the data with many missing values and the data with few or no missing values, then we could argue that simply dropping those points from the analysis won't present a major issue. On the other hand, if the data with many missing values looks very different from the data with few or no missing values, then we should make a note on those data as special. We'll revisit these data later on. **Either way, you should continue your analysis for now using just the subset of the data with few or no missing values.**"
   ]
  },
  {
   "cell_type": "code",
   "execution_count": 24,
   "metadata": {},
   "outputs": [
    {
     "data": {
      "text/plain": [
       "0    43\n",
       "1     0\n",
       "2     0\n",
       "3     7\n",
       "4     0\n",
       "dtype: int64"
      ]
     },
     "execution_count": 24,
     "metadata": {},
     "output_type": "execute_result"
    }
   ],
   "source": [
    "# How much data is missing in each row of the dataset?\n",
    "#the second line of this comment will show us how much data in each row and from there we can know how much is missing\n",
    "#row_vlues = new_azdias.apply(lambda x: x.count(), axis=1)\n",
    "missing_row_vlues = new_azdias.shape[1] - new_azdias.apply(lambda x: x.count(), axis=1)\n",
    "missing_row_vlues.head()"
   ]
  },
  {
   "cell_type": "code",
   "execution_count": 25,
   "metadata": {},
   "outputs": [
    {
     "data": {
      "image/png": "[encoded data removed]",
      "text/plain": [
       "<matplotlib.figure.Figure at 0x7f361a904cf8>"
      ]
     },
     "metadata": {
      "needs_background": "light"
     },
     "output_type": "display_data"
    }
   ],
   "source": [
    "plt.rcParams['figure.figsize'] = (20,10)\n",
    "plt.hist(missing_row_vlues,bins=20, align=('mid'), label=new_azdias.columns)\n",
    "plt.show()"
   ]
  },
  {
   "cell_type": "code",
   "execution_count": 26,
   "metadata": {},
   "outputs": [],
   "source": [
    "# Write code to divide the data into two subsets based on the number of missing\n",
    "# values in each row.\n",
    "missing_row_vlues_percentage = (missing_row_vlues / new_azdias.shape[1]) * 100\n",
    "# these are the rows with 55% or more of their values missing \n",
    "subset_1_missing_row_vlues = missing_row_vlues_percentage[missing_row_vlues_percentage>=55]\n",
    "subset_1_missing_row_vlues = new_azdias.iloc[subset_1_missing_row_vlues.index,:]"
   ]
  },
  {
   "cell_type": "code",
   "execution_count": 27,
   "metadata": {},
   "outputs": [],
   "source": [
    "# these are the rows with less than 55% of their values missing \n",
    "subset_2_missing_row_vlues = missing_row_vlues_percentage[missing_row_vlues_percentage<20]\n",
    "subset_2_missing_row_vlues = new_azdias.iloc[subset_2_missing_row_vlues.index,:]"
   ]
  },
  {
   "cell_type": "code",
   "execution_count": 28,
   "metadata": {},
   "outputs": [],
   "source": [
    "# Compare the distribution of values for at least five columns where there are\n",
    "# no or few missing values, between the two subsets."
   ]
  },
  {
   "cell_type": "code",
   "execution_count": 29,
   "metadata": {},
   "outputs": [
    {
     "data": {
      "text/plain": [
       "Index(['ANREDE_KZ', 'FINANZ_MINIMALIST', 'FINANZ_SPARER', 'FINANZ_VORSORGER',\n",
       "       'FINANZ_ANLEGER'],\n",
       "      dtype='object')"
      ]
     },
     "execution_count": 29,
     "metadata": {},
     "output_type": "execute_result"
    }
   ],
   "source": [
    "#these are 5 columns with no missing values\n",
    "columns_5 = new_azdias.isnull().sum()\n",
    "columns_5_percentage = (columns_5 / len(new_azdias)) * 100\n",
    "five_col = columns_5_percentage[columns_5_percentage==0].head(5).index\n",
    "five_col"
   ]
  },
  {
   "cell_type": "code",
   "execution_count": 30,
   "metadata": {},
   "outputs": [],
   "source": [
    "def distribution_missing_values_on_columns(columns,subset_1,subset_2):\n",
    "    figure, axs = plt.subplots(nrows=len(columns), ncols=2, figsize=(15,20))\n",
    "    figure.subplots_adjust(hspace=1, wspace=0.2)\n",
    "    for i in range(len(columns)):\n",
    "        sns.countplot(subset_1[columns[i]], ax=axs[i][0])\n",
    "        axs[i][0].set_title('rows with 55% or more of their values missing')\n",
    "        sns.countplot(subset_2[columns[i]], ax=axs[i][1])\n",
    "        axs[i][1].set_title('rows with less than 55% of their values missing')"
   ]
  },
  {
   "cell_type": "code",
   "execution_count": 31,
   "metadata": {},
   "outputs": [
    {
     "data": {
      "image/png": "[encoded data removed]",
      "text/plain": [
       "<matplotlib.figure.Figure at 0x7f3619005940>"
      ]
     },
     "metadata": {
      "needs_background": "light"
     },
     "output_type": "display_data"
    }
   ],
   "source": [
    "distribution_missing_values_on_columns(five_col,subset_1_missing_row_vlues,subset_2_missing_row_vlues)"
   ]
  },
  {
   "cell_type": "code",
   "execution_count": null,
   "metadata": {},
   "outputs": [],
   "source": []
  },
  {
   "cell_type": "markdown",
   "metadata": {},
   "source": [
    "#### Discussion 1.1.3: Assess Missing Data in Each Row\n",
    "## Answer\n",
    "Observing the distribution on the columns with no missing data of the subsets of rows missing a lot of data and rows not missing a lot of data, there seem to be not much of differences in the distributions. Thus, dropping those rows from the analysis might not present a major issue."
   ]
  },
  {
   "cell_type": "markdown",
   "metadata": {},
   "source": [
    "### Step 1.2: Select and Re-Encode Features\n",
    "\n",
    "Checking for missing data isn't the only way in which you can prepare a dataset for analysis. Since the unsupervised learning techniques to be used will only work on data that is encoded numerically, you need to make a few encoding changes or additional assumptions to be able to make progress. In addition, while almost all of the values in the dataset are encoded using numbers, not all of them represent numeric values. Check the third column of the feature summary (`feat_info`) for a summary of types of measurement.\n",
    "- For numeric and interval data, these features can be kept without changes.\n",
    "- Most of the variables in the dataset are ordinal in nature. While ordinal values may technically be non-linear in spacing, make the simplifying assumption that the ordinal variables can be treated as being interval in nature (that is, kept without any changes).\n",
    "- Special handling may be necessary for the remaining two variable types: categorical, and 'mixed'.\n",
    "\n",
    "In the first two parts of this sub-step, you will perform an investigation of the categorical and mixed-type features and make a decision on each of them, whether you will keep, drop, or re-encode each. Then, in the last part, you will create a new data frame with only the selected and engineered columns.\n",
    "\n",
    "Data wrangling is often the trickiest part of the data analysis process, and there's a lot of it to be done here. But stick with it: once you're done with this step, you'll be ready to get to the machine learning parts of the project!"
   ]
  },
  {
   "cell_type": "code",
   "execution_count": 32,
   "metadata": {},
   "outputs": [
    {
     "data": {
      "text/html": [
       "<div>\n",
       "<style scoped>\n",
       "    .dataframe tbody tr th:only-of-type {\n",
       "        vertical-align: middle;\n",
       "    }\n",
       "\n",
       "    .dataframe tbody tr th {\n",
       "        vertical-align: top;\n",
       "    }\n",
       "\n",
       "    .dataframe thead th {\n",
       "        text-align: right;\n",
       "    }\n",
       "</style>\n",
       "<table border=\"1\" class=\"dataframe\">\n",
       "  <thead>\n",
       "    <tr style=\"text-align: right;\">\n",
       "      <th></th>\n",
       "      <th>attribute</th>\n",
       "      <th>information_level</th>\n",
       "      <th>type</th>\n",
       "      <th>missing_or_unknown</th>\n",
       "    </tr>\n",
       "  </thead>\n",
       "  <tbody>\n",
       "    <tr>\n",
       "      <th>0</th>\n",
       "      <td>AGER_TYP</td>\n",
       "      <td>person</td>\n",
       "      <td>categorical</td>\n",
       "      <td>[-1,0]</td>\n",
       "    </tr>\n",
       "    <tr>\n",
       "      <th>1</th>\n",
       "      <td>ALTERSKATEGORIE_GROB</td>\n",
       "      <td>person</td>\n",
       "      <td>ordinal</td>\n",
       "      <td>[-1,0,9]</td>\n",
       "    </tr>\n",
       "  </tbody>\n",
       "</table>\n",
       "</div>"
      ],
      "text/plain": [
       "              attribute information_level         type missing_or_unknown\n",
       "0              AGER_TYP            person  categorical             [-1,0]\n",
       "1  ALTERSKATEGORIE_GROB            person      ordinal           [-1,0,9]"
      ]
     },
     "execution_count": 32,
     "metadata": {},
     "output_type": "execute_result"
    }
   ],
   "source": [
    "feat_info.head(2)"
   ]
  },
  {
   "cell_type": "code",
   "execution_count": 33,
   "metadata": {},
   "outputs": [
    {
     "data": {
      "text/plain": [
       "array(['categorical', 'ordinal', 'numeric', 'mixed', 'interval'], dtype=object)"
      ]
     },
     "execution_count": 33,
     "metadata": {},
     "output_type": "execute_result"
    }
   ],
   "source": [
    "feat_info.type.unique()"
   ]
  },
  {
   "cell_type": "code",
   "execution_count": 34,
   "metadata": {},
   "outputs": [
    {
     "data": {
      "text/plain": [
       "ordinal        49\n",
       "categorical    21\n",
       "mixed           7\n",
       "numeric         7\n",
       "interval        1\n",
       "Name: type, dtype: int64"
      ]
     },
     "execution_count": 34,
     "metadata": {},
     "output_type": "execute_result"
    }
   ],
   "source": [
    "# How many features are there of each data type?\n",
    "feat_info['type'].value_counts()"
   ]
  },
  {
   "cell_type": "markdown",
   "metadata": {},
   "source": [
    "#### Step 1.2.1: Re-Encode Categorical Features\n",
    "\n",
    "For categorical data, you would ordinarily need to encode the levels as dummy variables. Depending on the number of categories, perform one of the following:\n",
    "- For binary (two-level) categoricals that take numeric values, you can keep them without needing to do anything.\n",
    "- There is one binary variable that takes on non-numeric values. For this one, you need to re-encode the values as numbers or create a dummy variable.\n",
    "- For multi-level categoricals (three or more values), you can choose to encode the values using multiple dummy variables (e.g. via [OneHotEncoder](http://scikit-learn.org/stable/modules/generated/sklearn.preprocessing.OneHotEncoder.html)), or (to keep things straightforward) just drop them from the analysis. As always, document your choices in the Discussion section."
   ]
  },
  {
   "cell_type": "code",
   "execution_count": 35,
   "metadata": {},
   "outputs": [
    {
     "data": {
      "text/html": [
       "<div>\n",
       "<style scoped>\n",
       "    .dataframe tbody tr th:only-of-type {\n",
       "        vertical-align: middle;\n",
       "    }\n",
       "\n",
       "    .dataframe tbody tr th {\n",
       "        vertical-align: top;\n",
       "    }\n",
       "\n",
       "    .dataframe thead th {\n",
       "        text-align: right;\n",
       "    }\n",
       "</style>\n",
       "<table border=\"1\" class=\"dataframe\">\n",
       "  <thead>\n",
       "    <tr style=\"text-align: right;\">\n",
       "      <th></th>\n",
       "      <th>attribute</th>\n",
       "      <th>information_level</th>\n",
       "      <th>type</th>\n",
       "      <th>missing_or_unknown</th>\n",
       "    </tr>\n",
       "  </thead>\n",
       "  <tbody>\n",
       "    <tr>\n",
       "      <th>0</th>\n",
       "      <td>ALTERSKATEGORIE_GROB</td>\n",
       "      <td>person</td>\n",
       "      <td>ordinal</td>\n",
       "      <td>[-1,0,9]</td>\n",
       "    </tr>\n",
       "    <tr>\n",
       "      <th>1</th>\n",
       "      <td>ANREDE_KZ</td>\n",
       "      <td>person</td>\n",
       "      <td>categorical</td>\n",
       "      <td>[-1,0]</td>\n",
       "    </tr>\n",
       "  </tbody>\n",
       "</table>\n",
       "</div>"
      ],
      "text/plain": [
       "              attribute information_level         type missing_or_unknown\n",
       "0  ALTERSKATEGORIE_GROB            person      ordinal           [-1,0,9]\n",
       "1             ANREDE_KZ            person  categorical             [-1,0]"
      ]
     },
     "execution_count": 35,
     "metadata": {},
     "output_type": "execute_result"
    }
   ],
   "source": [
    "# deleting all the columns with a lot of missing values from feat_info\n",
    "new_feat_info = feat_info[feat_info.attribute != 'AGER_TYP']\n",
    "new_feat_info = new_feat_info[new_feat_info.attribute != 'GEBURTSJAHR']\n",
    "new_feat_info = new_feat_info[new_feat_info.attribute != 'TITEL_KZ']\n",
    "new_feat_info = new_feat_info[new_feat_info.attribute != 'ALTER_HH']\n",
    "new_feat_info = new_feat_info[new_feat_info.attribute != 'KK_KUNDENTYP']\n",
    "new_feat_info = new_feat_info[new_feat_info.attribute != 'KBA05_BAUMAX']\n",
    "new_feat_info.reset_index(drop=True,inplace=True)\n",
    "new_feat_info.head(2)"
   ]
  },
  {
   "cell_type": "code",
   "execution_count": 36,
   "metadata": {},
   "outputs": [],
   "source": [
    "# Assess categorical variables: which are binary, which are multi-level, and\n",
    "# which one needs to be re-encoded?\n",
    "categorical_variables = new_feat_info[new_feat_info['type'] == 'categorical']['attribute']\n",
    "categorical_variables.reset_index(drop=True,inplace=True)"
   ]
  },
  {
   "cell_type": "code",
   "execution_count": 37,
   "metadata": {},
   "outputs": [
    {
     "data": {
      "text/plain": [
       "18"
      ]
     },
     "execution_count": 37,
     "metadata": {},
     "output_type": "execute_result"
    }
   ],
   "source": [
    "len(categorical_variables)"
   ]
  },
  {
   "cell_type": "code",
   "execution_count": 38,
   "metadata": {},
   "outputs": [
    {
     "data": {
      "text/plain": [
       "{'ANREDE_KZ': 2,\n",
       " 'CJT_GESAMTTYP': 6,\n",
       " 'FINANZTYP': 6,\n",
       " 'GFK_URLAUBERTYP': 12,\n",
       " 'GREEN_AVANTGARDE': 2,\n",
       " 'LP_FAMILIE_FEIN': 11,\n",
       " 'LP_FAMILIE_GROB': 5,\n",
       " 'LP_STATUS_FEIN': 10,\n",
       " 'LP_STATUS_GROB': 5,\n",
       " 'NATIONALITAET_KZ': 3,\n",
       " 'SHOPPER_TYP': 4,\n",
       " 'SOHO_KZ': 2,\n",
       " 'VERS_TYP': 2,\n",
       " 'ZABEOTYP': 6,\n",
       " 'GEBAEUDETYP': 7,\n",
       " 'OST_WEST_KZ': 2,\n",
       " 'CAMEO_DEUG_2015': 9,\n",
       " 'CAMEO_DEU_2015': 44}"
      ]
     },
     "execution_count": 38,
     "metadata": {},
     "output_type": "execute_result"
    }
   ],
   "source": [
    "#counting the number categories for each categorical variable\n",
    "{categorical_variables[i]:len(new_azdias[categorical_variables[i]].value_counts()) for i in range(len(categorical_variables))}"
   ]
  },
  {
   "cell_type": "code",
   "execution_count": 39,
   "metadata": {},
   "outputs": [
    {
     "name": "stdout",
     "output_type": "stream",
     "text": [
      "2    465305\n",
      "1    425916\n",
      "Name: ANREDE_KZ, dtype: int64\n",
      "0    715996\n",
      "1    175225\n",
      "Name: GREEN_AVANTGARDE, dtype: int64\n",
      "0.0    810834\n",
      "1.0      6888\n",
      "Name: SOHO_KZ, dtype: int64\n",
      "2.0    398722\n",
      "1.0    381303\n",
      "Name: VERS_TYP, dtype: int64\n",
      "W    629528\n",
      "O    168545\n",
      "Name: OST_WEST_KZ, dtype: int64\n"
     ]
    }
   ],
   "source": [
    "#to check which of the one binary variables takes on non-numeric values\n",
    "print(new_azdias['ANREDE_KZ'].value_counts())\n",
    "print(new_azdias['GREEN_AVANTGARDE'].value_counts())\n",
    "print(new_azdias['SOHO_KZ'].value_counts())\n",
    "print(new_azdias['VERS_TYP'].value_counts())\n",
    "print(new_azdias['OST_WEST_KZ'].value_counts())"
   ]
  },
  {
   "cell_type": "code",
   "execution_count": 40,
   "metadata": {},
   "outputs": [],
   "source": [
    "# Re-encode categorical variable(s) to be kept in the analysis.\n",
    "# create dummy variables\n",
    "cleaned_azdias = pd.get_dummies(new_azdias,dummy_na=False, columns=['OST_WEST_KZ'])"
   ]
  },
  {
   "cell_type": "code",
   "execution_count": 41,
   "metadata": {},
   "outputs": [],
   "source": [
    "cleaned_azdias.drop(['CJT_GESAMTTYP', 'FINANZTYP', 'GFK_URLAUBERTYP','LP_FAMILIE_FEIN', 'LP_FAMILIE_GROB', 'LP_STATUS_FEIN',\n",
    "                     'LP_STATUS_GROB', 'NATIONALITAET_KZ', 'SHOPPER_TYP', 'ZABEOTYP', 'GEBAEUDETYP', 'CAMEO_DEUG_2015',\n",
    "                     'CAMEO_DEU_2015', ], axis=1, inplace=True)"
   ]
  },
  {
   "cell_type": "code",
   "execution_count": 42,
   "metadata": {},
   "outputs": [
    {
     "data": {
      "text/html": [
       "<div>\n",
       "<style scoped>\n",
       "    .dataframe tbody tr th:only-of-type {\n",
       "        vertical-align: middle;\n",
       "    }\n",
       "\n",
       "    .dataframe tbody tr th {\n",
       "        vertical-align: top;\n",
       "    }\n",
       "\n",
       "    .dataframe thead th {\n",
       "        text-align: right;\n",
       "    }\n",
       "</style>\n",
       "<table border=\"1\" class=\"dataframe\">\n",
       "  <thead>\n",
       "    <tr style=\"text-align: right;\">\n",
       "      <th></th>\n",
       "      <th>ALTERSKATEGORIE_GROB</th>\n",
       "      <th>ANREDE_KZ</th>\n",
       "      <th>FINANZ_MINIMALIST</th>\n",
       "      <th>FINANZ_SPARER</th>\n",
       "      <th>FINANZ_VORSORGER</th>\n",
       "      <th>FINANZ_ANLEGER</th>\n",
       "      <th>FINANZ_UNAUFFAELLIGER</th>\n",
       "      <th>FINANZ_HAUSBAUER</th>\n",
       "      <th>GREEN_AVANTGARDE</th>\n",
       "      <th>HEALTH_TYP</th>\n",
       "      <th>...</th>\n",
       "      <th>PLZ8_ANTG3</th>\n",
       "      <th>PLZ8_ANTG4</th>\n",
       "      <th>PLZ8_BAUMAX</th>\n",
       "      <th>PLZ8_HHZ</th>\n",
       "      <th>PLZ8_GBZ</th>\n",
       "      <th>ARBEIT</th>\n",
       "      <th>ORTSGR_KLS9</th>\n",
       "      <th>RELAT_AB</th>\n",
       "      <th>OST_WEST_KZ_O</th>\n",
       "      <th>OST_WEST_KZ_W</th>\n",
       "    </tr>\n",
       "  </thead>\n",
       "  <tbody>\n",
       "    <tr>\n",
       "      <th>0</th>\n",
       "      <td>2.0</td>\n",
       "      <td>1</td>\n",
       "      <td>3</td>\n",
       "      <td>4</td>\n",
       "      <td>3</td>\n",
       "      <td>5</td>\n",
       "      <td>5</td>\n",
       "      <td>3</td>\n",
       "      <td>0</td>\n",
       "      <td>NaN</td>\n",
       "      <td>...</td>\n",
       "      <td>NaN</td>\n",
       "      <td>NaN</td>\n",
       "      <td>NaN</td>\n",
       "      <td>NaN</td>\n",
       "      <td>NaN</td>\n",
       "      <td>NaN</td>\n",
       "      <td>NaN</td>\n",
       "      <td>NaN</td>\n",
       "      <td>0</td>\n",
       "      <td>0</td>\n",
       "    </tr>\n",
       "    <tr>\n",
       "      <th>1</th>\n",
       "      <td>1.0</td>\n",
       "      <td>2</td>\n",
       "      <td>1</td>\n",
       "      <td>5</td>\n",
       "      <td>2</td>\n",
       "      <td>5</td>\n",
       "      <td>4</td>\n",
       "      <td>5</td>\n",
       "      <td>0</td>\n",
       "      <td>3.0</td>\n",
       "      <td>...</td>\n",
       "      <td>2.0</td>\n",
       "      <td>1.0</td>\n",
       "      <td>1.0</td>\n",
       "      <td>5.0</td>\n",
       "      <td>4.0</td>\n",
       "      <td>3.0</td>\n",
       "      <td>5.0</td>\n",
       "      <td>4.0</td>\n",
       "      <td>0</td>\n",
       "      <td>1</td>\n",
       "    </tr>\n",
       "  </tbody>\n",
       "</table>\n",
       "<p>2 rows × 67 columns</p>\n",
       "</div>"
      ],
      "text/plain": [
       "   ALTERSKATEGORIE_GROB  ANREDE_KZ  FINANZ_MINIMALIST  FINANZ_SPARER  \\\n",
       "0                   2.0          1                  3              4   \n",
       "1                   1.0          2                  1              5   \n",
       "\n",
       "   FINANZ_VORSORGER  FINANZ_ANLEGER  FINANZ_UNAUFFAELLIGER  FINANZ_HAUSBAUER  \\\n",
       "0                 3               5                      5                 3   \n",
       "1                 2               5                      4                 5   \n",
       "\n",
       "   GREEN_AVANTGARDE  HEALTH_TYP      ...        PLZ8_ANTG3  PLZ8_ANTG4  \\\n",
       "0                 0         NaN      ...               NaN         NaN   \n",
       "1                 0         3.0      ...               2.0         1.0   \n",
       "\n",
       "   PLZ8_BAUMAX  PLZ8_HHZ  PLZ8_GBZ  ARBEIT  ORTSGR_KLS9  RELAT_AB  \\\n",
       "0          NaN       NaN       NaN     NaN          NaN       NaN   \n",
       "1          1.0       5.0       4.0     3.0          5.0       4.0   \n",
       "\n",
       "   OST_WEST_KZ_O  OST_WEST_KZ_W  \n",
       "0              0              0  \n",
       "1              0              1  \n",
       "\n",
       "[2 rows x 67 columns]"
      ]
     },
     "execution_count": 42,
     "metadata": {},
     "output_type": "execute_result"
    }
   ],
   "source": [
    "cleaned_azdias.head(2)"
   ]
  },
  {
   "cell_type": "code",
   "execution_count": null,
   "metadata": {},
   "outputs": [],
   "source": []
  },
  {
   "cell_type": "markdown",
   "metadata": {},
   "source": [
    "#### Discussion 1.2.1: Re-Encode Categorical Features\n",
    "\n",
    "## Answer\n",
    "There are exactly 18 categorical features in the new_azdias data frame. Five of those features have binary categoricals, all of them are numeric categories except for the OST_WEST_KZ feature, which was encoded using a dummy variable. Besides the four binary categorical features and the OST_WEST_KZ feature, I decided to drop all of the other 13 categorical features to keep things simple and to shorten the time of clustering."
   ]
  },
  {
   "cell_type": "markdown",
   "metadata": {},
   "source": [
    "#### Step 1.2.2: Engineer Mixed-Type Features\n",
    "\n",
    "There are a handful of features that are marked as \"mixed\" in the feature summary that require special treatment in order to be included in the analysis. There are two in particular that deserve attention; the handling of the rest are up to your own choices:\n",
    "- \"PRAEGENDE_JUGENDJAHRE\" combines information on three dimensions: generation by decade, movement (mainstream vs. avantgarde), and nation (east vs. west). While there aren't enough levels to disentangle east from west, you should create two new variables to capture the other two dimensions: an interval-type variable for decade, and a binary variable for movement.\n",
    "- \"CAMEO_INTL_2015\" combines information on two axes: wealth and life stage. Break up the two-digit codes by their 'tens'-place and 'ones'-place digits into two new ordinal variables (which, for the purposes of this project, is equivalent to just treating them as their raw numeric values).\n",
    "- If you decide to keep or engineer new features around the other mixed-type features, make sure you note your steps in the Discussion section.\n",
    "\n",
    "Be sure to check `Data_Dictionary.md` for the details needed to finish these tasks."
   ]
  },
  {
   "cell_type": "code",
   "execution_count": 43,
   "metadata": {},
   "outputs": [],
   "source": [
    "mixed_variables = new_feat_info[new_feat_info['type'] == 'mixed']['attribute']\n",
    "mixed_variables.reset_index(drop=True,inplace=True)"
   ]
  },
  {
   "cell_type": "code",
   "execution_count": 44,
   "metadata": {},
   "outputs": [
    {
     "data": {
      "text/plain": [
       "6"
      ]
     },
     "execution_count": 44,
     "metadata": {},
     "output_type": "execute_result"
    }
   ],
   "source": [
    "len(mixed_variables)"
   ]
  },
  {
   "cell_type": "code",
   "execution_count": 45,
   "metadata": {},
   "outputs": [
    {
     "data": {
      "text/plain": [
       "{'LP_LEBENSPHASE_FEIN': 40,\n",
       " 'LP_LEBENSPHASE_GROB': 12,\n",
       " 'PRAEGENDE_JUGENDJAHRE': 15,\n",
       " 'WOHNLAGE': 8,\n",
       " 'CAMEO_INTL_2015': 21,\n",
       " 'PLZ8_BAUMAX': 5}"
      ]
     },
     "execution_count": 45,
     "metadata": {},
     "output_type": "execute_result"
    }
   ],
   "source": [
    "{mixed_variables[i]:len(cleaned_azdias[mixed_variables[i]].value_counts()) for i in range(len(mixed_variables))}"
   ]
  },
  {
   "cell_type": "code",
   "execution_count": 46,
   "metadata": {},
   "outputs": [
    {
     "data": {
      "text/plain": [
       "0     NaN\n",
       "1    14.0\n",
       "2    15.0\n",
       "3     8.0\n",
       "4     8.0\n",
       "Name: PRAEGENDE_JUGENDJAHRE, dtype: float64"
      ]
     },
     "execution_count": 46,
     "metadata": {},
     "output_type": "execute_result"
    }
   ],
   "source": [
    "# Investigate \"PRAEGENDE_JUGENDJAHRE\" and engineer two new variables.\n",
    "cleaned_azdias['PRAEGENDE_JUGENDJAHRE'].head()"
   ]
  },
  {
   "cell_type": "code",
   "execution_count": 47,
   "metadata": {},
   "outputs": [],
   "source": [
    "# this variable was created to capture interval-type of decades\n",
    "cleaned_azdias['PRAEGENDE_JUGENDJAHRE_DECADE'] = cleaned_azdias['PRAEGENDE_JUGENDJAHRE']\n",
    "# this variable was created to capture binary categories of movements\n",
    "cleaned_azdias['PRAEGENDE_JUGENDJAHRE_MOVEMEMT'] = cleaned_azdias['PRAEGENDE_JUGENDJAHRE']\n",
    "cleaned_azdias.drop('PRAEGENDE_JUGENDJAHRE', axis= True, inplace=True)"
   ]
  },
  {
   "cell_type": "code",
   "execution_count": 48,
   "metadata": {},
   "outputs": [],
   "source": [
    "# this will capture the interval-type of decades\n",
    "cleaned_azdias['PRAEGENDE_JUGENDJAHRE_DECADE'].replace(to_replace={1:1,2:1,3:2,4:2,5:3,6:3,7:3,8:4,9:4,10:5,11:5,12:5,13:5,\n",
    "                                                                   14:6,15:6},\n",
    "                                                       inplace=True)\n",
    "# this will capture the binary categories of movements\n",
    "cleaned_azdias['PRAEGENDE_JUGENDJAHRE_MOVEMEMT'].replace(to_replace={1:0,2:1,3:0,4:1,5:0,6:1,7:1,8:0,9:1,10:0,11:1,12:0,13:1,\n",
    "                                                                     14:0,15:1},\n",
    "                                                         inplace=True)"
   ]
  },
  {
   "cell_type": "code",
   "execution_count": 49,
   "metadata": {},
   "outputs": [
    {
     "data": {
      "text/plain": [
       "6.0    231244\n",
       "4.0    179558\n",
       "5.0    151770\n",
       "3.0    116078\n",
       "2.0     75646\n",
       "1.0     28761\n",
       "Name: PRAEGENDE_JUGENDJAHRE_DECADE, dtype: int64"
      ]
     },
     "execution_count": 49,
     "metadata": {},
     "output_type": "execute_result"
    }
   ],
   "source": [
    "# check 1\n",
    "cleaned_azdias['PRAEGENDE_JUGENDJAHRE_DECADE'].value_counts()"
   ]
  },
  {
   "cell_type": "code",
   "execution_count": 50,
   "metadata": {},
   "outputs": [
    {
     "data": {
      "text/plain": [
       "0.0    607832\n",
       "1.0    175225\n",
       "Name: PRAEGENDE_JUGENDJAHRE_MOVEMEMT, dtype: int64"
      ]
     },
     "execution_count": 50,
     "metadata": {},
     "output_type": "execute_result"
    }
   ],
   "source": [
    "# check 2\n",
    "cleaned_azdias['PRAEGENDE_JUGENDJAHRE_MOVEMEMT'].value_counts()"
   ]
  },
  {
   "cell_type": "code",
   "execution_count": 51,
   "metadata": {},
   "outputs": [
    {
     "data": {
      "text/plain": [
       "0    NaN\n",
       "1     51\n",
       "2     24\n",
       "3     12\n",
       "4     43\n",
       "Name: CAMEO_INTL_2015, dtype: object"
      ]
     },
     "execution_count": 51,
     "metadata": {},
     "output_type": "execute_result"
    }
   ],
   "source": [
    "# Investigate \"CAMEO_INTL_2015\" and engineer two new variables.\n",
    "cleaned_azdias['CAMEO_INTL_2015'].head()"
   ]
  },
  {
   "cell_type": "code",
   "execution_count": 52,
   "metadata": {},
   "outputs": [],
   "source": [
    "# this variable was created to break up the two-digit codes by their 'tens'-place\n",
    "cleaned_azdias['CAMEO_INTL_2015_TENS'] = cleaned_azdias['CAMEO_INTL_2015']\n",
    "# this variable was created to break up the two-digit codes by their 'ones'-place\n",
    "cleaned_azdias['CAMEO_INTL_2015_ONES'] = cleaned_azdias['CAMEO_INTL_2015']\n",
    "cleaned_azdias.drop('CAMEO_INTL_2015', axis= True, inplace=True)"
   ]
  },
  {
   "cell_type": "code",
   "execution_count": 53,
   "metadata": {},
   "outputs": [],
   "source": [
    "# this will break up the two-digit codes by their 'tens'-place\n",
    "cleaned_azdias['CAMEO_INTL_2015_TENS'].replace(to_replace={'11':1,'12':1,'13':1,'14':1,'15':1,'21':2,'22':2,'23':2,'24':2,\n",
    "                                                           '25':2,'31':3,'32':3,'33':3,'34':3,'35':3,'41':4,'42':4,'43':4,\n",
    "                                                           '44':4,'45':4,'51':5,'52':5,'53':5,'54':5,'55':5},\n",
    "                                               inplace=True)\n",
    "# this will break up the two-digit codes by their 'ones'-place\n",
    "cleaned_azdias['CAMEO_INTL_2015_ONES'].replace(to_replace={'11':1,'12':2,'13':3,'14':4,'15':5,'21':1,'22':2,'23':3,'24':4,\n",
    "                                                           '25':5,'31':1,'32':2,'33':3,'34':4,'35':5,'41':1,'42':2,'43':3,\n",
    "                                                           '44':4,'45':5,'51':1,'52':2,'53':3,'54':4,'55':5},\n",
    "                                               inplace=True)"
   ]
  },
  {
   "cell_type": "code",
   "execution_count": 54,
   "metadata": {},
   "outputs": [
    {
     "data": {
      "text/plain": [
       "5.0    223582\n",
       "2.0    190691\n",
       "4.0    189960\n",
       "1.0    119443\n",
       "3.0     68193\n",
       "Name: CAMEO_INTL_2015_TENS, dtype: int64"
      ]
     },
     "execution_count": 54,
     "metadata": {},
     "output_type": "execute_result"
    }
   ],
   "source": [
    "# check 1\n",
    "cleaned_azdias['CAMEO_INTL_2015_TENS'].value_counts()"
   ]
  },
  {
   "cell_type": "code",
   "execution_count": 55,
   "metadata": {},
   "outputs": [
    {
     "data": {
      "text/plain": [
       "1.0    245054\n",
       "4.0    232777\n",
       "3.0    119693\n",
       "5.0    117045\n",
       "2.0     77300\n",
       "Name: CAMEO_INTL_2015_ONES, dtype: int64"
      ]
     },
     "execution_count": 55,
     "metadata": {},
     "output_type": "execute_result"
    }
   ],
   "source": [
    "# check 2\n",
    "cleaned_azdias['CAMEO_INTL_2015_ONES'].value_counts()"
   ]
  },
  {
   "cell_type": "code",
   "execution_count": 56,
   "metadata": {},
   "outputs": [
    {
     "data": {
      "text/plain": [
       "0    15.0\n",
       "1    21.0\n",
       "Name: LP_LEBENSPHASE_FEIN, dtype: float64"
      ]
     },
     "execution_count": 56,
     "metadata": {},
     "output_type": "execute_result"
    }
   ],
   "source": [
    "# to check the dtype\n",
    "cleaned_azdias['LP_LEBENSPHASE_FEIN'].head(2)"
   ]
  },
  {
   "cell_type": "code",
   "execution_count": 57,
   "metadata": {},
   "outputs": [
    {
     "data": {
      "text/plain": [
       "0    4.0\n",
       "1    6.0\n",
       "Name: LP_LEBENSPHASE_GROB, dtype: float64"
      ]
     },
     "execution_count": 57,
     "metadata": {},
     "output_type": "execute_result"
    }
   ],
   "source": [
    "# to check the dtype\n",
    "cleaned_azdias['LP_LEBENSPHASE_GROB'].head(2)"
   ]
  },
  {
   "cell_type": "code",
   "execution_count": 58,
   "metadata": {},
   "outputs": [
    {
     "data": {
      "text/plain": [
       "0    NaN\n",
       "1    4.0\n",
       "Name: WOHNLAGE, dtype: float64"
      ]
     },
     "execution_count": 58,
     "metadata": {},
     "output_type": "execute_result"
    }
   ],
   "source": [
    "# to check the dtype\n",
    "cleaned_azdias['WOHNLAGE'].head(2)"
   ]
  },
  {
   "cell_type": "code",
   "execution_count": 59,
   "metadata": {},
   "outputs": [
    {
     "data": {
      "text/plain": [
       "0    NaN\n",
       "1    1.0\n",
       "Name: PLZ8_BAUMAX, dtype: float64"
      ]
     },
     "execution_count": 59,
     "metadata": {},
     "output_type": "execute_result"
    }
   ],
   "source": [
    "# to check the dtype\n",
    "cleaned_azdias['PLZ8_BAUMAX'].head(2)"
   ]
  },
  {
   "cell_type": "code",
   "execution_count": null,
   "metadata": {},
   "outputs": [],
   "source": []
  },
  {
   "cell_type": "code",
   "execution_count": null,
   "metadata": {},
   "outputs": [],
   "source": []
  },
  {
   "cell_type": "markdown",
   "metadata": {},
   "source": [
    "#### Discussion 1.2.2: Engineer Mixed-Type Features\n",
    "\n",
    "## Answer\n",
    "Investigating the mixed-value features, there are 6 mixed-value features in the entire cleaned_azdias data frame. Two of these features needed to be separated into two features each. Those two features are PRAEGENDE_JUGENDJAHRE and CAMEO_INTL_2015. PRAEGENDE_JUGENDJAHRE was separated to capture interval-type of decades and binary categories of movements then they were encoded accordingly using numeric values. Also, the CAMEO_INTL_2015 feature was separated into two features to break up the two-digit codes by their 'tens'-place and 'ones'-place then they were encoded accordingly using numeric values. The remaining mixed-value features kept untouched since they seemed to be well separated and had dtype of float64."
   ]
  },
  {
   "cell_type": "markdown",
   "metadata": {},
   "source": [
    "#### Step 1.2.3: Complete Feature Selection\n",
    "\n",
    "In order to finish this step up, you need to make sure that your data frame now only has the columns that you want to keep. To summarize, the dataframe should consist of the following:\n",
    "- All numeric, interval, and ordinal type columns from the original dataset.\n",
    "- Binary categorical features (all numerically-encoded).\n",
    "- Engineered features from other multi-level categorical features and mixed features.\n",
    "\n",
    "Make sure that for any new columns that you have engineered, that you've excluded the original columns from the final dataset. Otherwise, their values will interfere with the analysis later on the project. For example, you should not keep \"PRAEGENDE_JUGENDJAHRE\", since its values won't be useful for the algorithm: only the values derived from it in the engineered features you created should be retained. As a reminder, your data should only be from **the subset with few or no missing values**."
   ]
  },
  {
   "cell_type": "code",
   "execution_count": 60,
   "metadata": {},
   "outputs": [],
   "source": [
    "# If there are other re-engineering tasks you need to perform, make sure you\n",
    "# take care of them here. (Dealing with missing data will come in step 2.1.)\n",
    "\n"
   ]
  },
  {
   "cell_type": "code",
   "execution_count": 61,
   "metadata": {},
   "outputs": [
    {
     "name": "stdout",
     "output_type": "stream",
     "text": [
      "<class 'pandas.core.frame.DataFrame'>\n",
      "RangeIndex: 891221 entries, 0 to 891220\n",
      "Data columns (total 69 columns):\n",
      "ALTERSKATEGORIE_GROB              888340 non-null float64\n",
      "ANREDE_KZ                         891221 non-null int64\n",
      "FINANZ_MINIMALIST                 891221 non-null int64\n",
      "FINANZ_SPARER                     891221 non-null int64\n",
      "FINANZ_VORSORGER                  891221 non-null int64\n",
      "FINANZ_ANLEGER                    891221 non-null int64\n",
      "FINANZ_UNAUFFAELLIGER             891221 non-null int64\n",
      "FINANZ_HAUSBAUER                  891221 non-null int64\n",
      "GREEN_AVANTGARDE                  891221 non-null int64\n",
      "HEALTH_TYP                        780025 non-null float64\n",
      "LP_LEBENSPHASE_FEIN               793589 non-null float64\n",
      "LP_LEBENSPHASE_GROB               796649 non-null float64\n",
      "RETOURTYP_BK_S                    886367 non-null float64\n",
      "SEMIO_SOZ                         891221 non-null int64\n",
      "SEMIO_FAM                         891221 non-null int64\n",
      "SEMIO_REL                         891221 non-null int64\n",
      "SEMIO_MAT                         891221 non-null int64\n",
      "SEMIO_VERT                        891221 non-null int64\n",
      "SEMIO_LUST                        891221 non-null int64\n",
      "SEMIO_ERL                         891221 non-null int64\n",
      "SEMIO_KULT                        891221 non-null int64\n",
      "SEMIO_RAT                         891221 non-null int64\n",
      "SEMIO_KRIT                        891221 non-null int64\n",
      "SEMIO_DOM                         891221 non-null int64\n",
      "SEMIO_KAEM                        891221 non-null int64\n",
      "SEMIO_PFLICHT                     891221 non-null int64\n",
      "SEMIO_TRADV                       891221 non-null int64\n",
      "SOHO_KZ                           817722 non-null float64\n",
      "VERS_TYP                          780025 non-null float64\n",
      "ANZ_PERSONEN                      817722 non-null float64\n",
      "ANZ_TITEL                         817722 non-null float64\n",
      "HH_EINKOMMEN_SCORE                872873 non-null float64\n",
      "W_KEIT_KIND_HH                    743233 non-null float64\n",
      "WOHNDAUER_2008                    817722 non-null float64\n",
      "ANZ_HAUSHALTE_AKTIV               791610 non-null float64\n",
      "ANZ_HH_TITEL                      794213 non-null float64\n",
      "KONSUMNAEHE                       817252 non-null float64\n",
      "MIN_GEBAEUDEJAHR                  798073 non-null float64\n",
      "WOHNLAGE                          798073 non-null float64\n",
      "KBA05_ANTG1                       757897 non-null float64\n",
      "KBA05_ANTG2                       757897 non-null float64\n",
      "KBA05_ANTG3                       757897 non-null float64\n",
      "KBA05_ANTG4                       757897 non-null float64\n",
      "KBA05_GBZ                         757897 non-null float64\n",
      "BALLRAUM                          797481 non-null float64\n",
      "EWDICHTE                          797481 non-null float64\n",
      "INNENSTADT                        797481 non-null float64\n",
      "GEBAEUDETYP_RASTER                798066 non-null float64\n",
      "KKK                               733157 non-null float64\n",
      "MOBI_REGIO                        757897 non-null float64\n",
      "ONLINE_AFFINITAET                 886367 non-null float64\n",
      "REGIOTYP                          733157 non-null float64\n",
      "KBA13_ANZAHL_PKW                  785421 non-null float64\n",
      "PLZ8_ANTG1                        774706 non-null float64\n",
      "PLZ8_ANTG2                        774706 non-null float64\n",
      "PLZ8_ANTG3                        774706 non-null float64\n",
      "PLZ8_ANTG4                        774706 non-null float64\n",
      "PLZ8_BAUMAX                       774706 non-null float64\n",
      "PLZ8_HHZ                          774706 non-null float64\n",
      "PLZ8_GBZ                          774706 non-null float64\n",
      "ARBEIT                            793846 non-null float64\n",
      "ORTSGR_KLS9                       793947 non-null float64\n",
      "RELAT_AB                          793846 non-null float64\n",
      "OST_WEST_KZ_O                     891221 non-null uint8\n",
      "OST_WEST_KZ_W                     891221 non-null uint8\n",
      "PRAEGENDE_JUGENDJAHRE_DECADE      783057 non-null float64\n",
      "PRAEGENDE_JUGENDJAHRE_MOVEMEMT    783057 non-null float64\n",
      "CAMEO_INTL_2015_TENS              791869 non-null float64\n",
      "CAMEO_INTL_2015_ONES              791869 non-null float64\n",
      "dtypes: float64(45), int64(22), uint8(2)\n",
      "memory usage: 457.3 MB\n"
     ]
    }
   ],
   "source": [
    "# Do whatever you need to in order to ensure that the dataframe only contains\n",
    "# the columns that should be passed to the algorithm functions.\n",
    "cleaned_azdias.info()"
   ]
  },
  {
   "cell_type": "markdown",
   "metadata": {},
   "source": [
    "### Step 1.3: Create a Cleaning Function\n",
    "\n",
    "Even though you've finished cleaning up the general population demographics data, it's important to look ahead to the future and realize that you'll need to perform the same cleaning steps on the customer demographics data. In this substep, complete the function below to execute the main feature selection, encoding, and re-engineering steps you performed above. Then, when it comes to looking at the customer data in Step 3, you can just run this function on that DataFrame to get the trimmed dataset in a single step."
   ]
  },
  {
   "cell_type": "code",
   "execution_count": 118,
   "metadata": {},
   "outputs": [],
   "source": [
    "def clean_data(df):\n",
    "    \"\"\"\n",
    "    Perform feature trimming, re-encoding, and engineering for demographics\n",
    "    data\n",
    "    \n",
    "    INPUT: Demographics DataFrame\n",
    "    OUTPUT: Trimmed and cleaned demographics DataFrame\n",
    "    \"\"\"\n",
    "    \n",
    "    # Put in code here to execute all main cleaning steps:\n",
    "    # convert missing value codes into NaNs, ...\n",
    "    # Identify missing or unknown data values and convert them to NaNs.\n",
    "    for col_counter, column in enumerate(df.columns):\n",
    "        check_1, check_2 = 'X','XX'\n",
    "        missing_or_unknown_values = feat_info['missing_or_unknown'][col_counter]\n",
    "        if (check_1 in missing_or_unknown_values[1:-1].split(',')) or (check_2 in missing_or_unknown_values[1:-1].split(',')):\n",
    "            missing_or_unknown_values = missing_or_unknown_values[1:-1].split(',')\n",
    "        else:\n",
    "            missing_or_unknown_values = eval(missing_or_unknown_values)\n",
    "        for value in missing_or_unknown_values:\n",
    "            df[column].replace(value,np.nan,inplace=True)\n",
    "        \n",
    "    # replace all missing values with NaN\n",
    "    df.replace('',np.nan,inplace=True)\n",
    "    \n",
    "    # remove selected columns and rows, ...\n",
    "    outlier = df.isnull().sum()\n",
    "    outlier_percentage = (outlier / len(df)) * 100\n",
    "    selected_columns = outlier_percentage[outlier_percentage>35].index\n",
    "    for i in selected_columns:\n",
    "        df.drop(i, axis=1, inplace=True)\n",
    "        \n",
    "        \n",
    "    # select, re-encode, and engineer column values.\n",
    "    # create dummy variables\n",
    "    df = pd.get_dummies(df,dummy_na=False, columns=['OST_WEST_KZ'])\n",
    "    # drop all of the 13 multi-level categoricals features\n",
    "    df.drop(['CJT_GESAMTTYP', 'FINANZTYP', 'GFK_URLAUBERTYP','LP_FAMILIE_FEIN', 'LP_FAMILIE_GROB', 'LP_STATUS_FEIN',\n",
    "                     'LP_STATUS_GROB', 'NATIONALITAET_KZ', 'SHOPPER_TYP', 'ZABEOTYP', 'GEBAEUDETYP', 'CAMEO_DEUG_2015',\n",
    "                     'CAMEO_DEU_2015', ], axis=1, inplace=True)\n",
    "    # this variable was created to capture interval-type of decades\n",
    "    df['PRAEGENDE_JUGENDJAHRE_DECADE'] = df['PRAEGENDE_JUGENDJAHRE']\n",
    "    # this variable was created to capture binary categories of movements\n",
    "    df['PRAEGENDE_JUGENDJAHRE_MOVEMEMT'] = df['PRAEGENDE_JUGENDJAHRE']\n",
    "    df.drop('PRAEGENDE_JUGENDJAHRE', axis= True, inplace=True)\n",
    "    # this will capture the interval-type of decades\n",
    "    df['PRAEGENDE_JUGENDJAHRE_DECADE'].replace(to_replace={1:1,2:1,3:2,4:2,5:3,6:3,7:3,8:4,9:4,10:5,11:5,12:5,13:5,\n",
    "                                                           14:6,15:6},\n",
    "                                                inplace=True)\n",
    "    # this will capture the binary categories of movements\n",
    "    df['PRAEGENDE_JUGENDJAHRE_MOVEMEMT'].replace(to_replace={1:0,2:1,3:0,4:1,5:0,6:1,7:1,8:0,9:1,10:0,11:1,12:0,13:1,\n",
    "                                                             14:0,15:1},\n",
    "                                                 inplace=True)\n",
    "    # this variable was created to break up the two-digit codes by their 'tens'-place\n",
    "    df['CAMEO_INTL_2015_TENS'] = df['CAMEO_INTL_2015']\n",
    "    # this variable was created to break up the two-digit codes by their 'ones'-place\n",
    "    df['CAMEO_INTL_2015_ONES'] = df['CAMEO_INTL_2015']\n",
    "    df.drop('CAMEO_INTL_2015', axis= True, inplace=True)\n",
    "    # this will break up the two-digit codes by their 'tens'-place\n",
    "    df['CAMEO_INTL_2015_TENS'].replace(to_replace={'11':1,'12':1,'13':1,'14':1,'15':1,'21':2,'22':2,'23':2,'24':2,\n",
    "                                                   '25':2,'31':3,'32':3,'33':3,'34':3,'35':3,'41':4,'42':4,'43':4,\n",
    "                                                   '44':4,'45':4,'51':5,'52':5,'53':5,'54':5,'55':5},\n",
    "                                       inplace=True)\n",
    "    # this will break up the two-digit codes by their 'ones'-place\n",
    "    df['CAMEO_INTL_2015_ONES'].replace(to_replace={'11':1,'12':2,'13':3,'14':4,'15':5,'21':1,'22':2,'23':3,'24':4,\n",
    "                                                   '25':5,'31':1,'32':2,'33':3,'34':4,'35':5,'41':1,'42':2,'43':3,\n",
    "                                                   '44':4,'45':5,'51':1,'52':2,'53':3,'54':4,'55':5},\n",
    "                                       inplace=True)\n",
    "    \n",
    "    \n",
    "    # Return the cleaned dataframe.\n",
    "    return df"
   ]
  },
  {
   "cell_type": "markdown",
   "metadata": {},
   "source": [
    "## Step 2: Feature Transformation\n",
    "\n",
    "### Step 2.1: Apply Feature Scaling\n",
    "\n",
    "Before we apply dimensionality reduction techniques to the data, we need to perform feature scaling so that the principal component vectors are not influenced by the natural differences in scale for features. Starting from this part of the project, you'll want to keep an eye on the [API reference page for sklearn](http://scikit-learn.org/stable/modules/classes.html) to help you navigate to all of the classes and functions that you'll need. In this substep, you'll need to check the following:\n",
    "\n",
    "- sklearn requires that data not have missing values in order for its estimators to work properly. So, before applying the scaler to your data, make sure that you've cleaned the DataFrame of the remaining missing values. This can be as simple as just removing all data points with missing data, or applying an [Imputer](http://scikit-learn.org/stable/modules/generated/sklearn.preprocessing.Imputer.html) to replace all missing values. You might also try a more complicated procedure where you temporarily remove missing values in order to compute the scaling parameters before re-introducing those missing values and applying imputation. Think about how much missing data you have and what possible effects each approach might have on your analysis, and justify your decision in the discussion section below.\n",
    "- For the actual scaling function, a [StandardScaler](http://scikit-learn.org/stable/modules/generated/sklearn.preprocessing.StandardScaler.html) instance is suggested, scaling each feature to mean 0 and standard deviation 1.\n",
    "- For these classes, you can make use of the `.fit_transform()` method to both fit a procedure to the data as well as apply the transformation to the data at the same time. Don't forget to keep the fit sklearn objects handy, since you'll be applying them to the customer demographics data towards the end of the project."
   ]
  },
  {
   "cell_type": "code",
   "execution_count": 106,
   "metadata": {},
   "outputs": [],
   "source": [
    "# If you've not yet cleaned the dataset of all NaN values, then investigate and\n",
    "# do that now.\n",
    "cleaned_imputed_azdias = pd.DataFrame(Imputer().fit_transform(cleaned_azdias), columns=cleaned_azdias.columns)"
   ]
  },
  {
   "cell_type": "code",
   "execution_count": 107,
   "metadata": {},
   "outputs": [
    {
     "data": {
      "text/plain": [
       "(891221, 69)"
      ]
     },
     "execution_count": 107,
     "metadata": {},
     "output_type": "execute_result"
    }
   ],
   "source": [
    "cleaned_imputed_azdias.shape"
   ]
  },
  {
   "cell_type": "code",
   "execution_count": 108,
   "metadata": {},
   "outputs": [],
   "source": [
    "# Apply feature scaling to the general population demographics data.\n",
    "scaler = StandardScaler()\n",
    "scaler_fit_azdias = scaler.fit_transform(cleaned_imputed_azdias)\n",
    "scaled_azdias = pd.DataFrame(scaler_fit_azdias, columns=cleaned_imputed_azdias.columns)"
   ]
  },
  {
   "cell_type": "code",
   "execution_count": 66,
   "metadata": {},
   "outputs": [
    {
     "data": {
      "text/html": [
       "<div>\n",
       "<style scoped>\n",
       "    .dataframe tbody tr th:only-of-type {\n",
       "        vertical-align: middle;\n",
       "    }\n",
       "\n",
       "    .dataframe tbody tr th {\n",
       "        vertical-align: top;\n",
       "    }\n",
       "\n",
       "    .dataframe thead th {\n",
       "        text-align: right;\n",
       "    }\n",
       "</style>\n",
       "<table border=\"1\" class=\"dataframe\">\n",
       "  <thead>\n",
       "    <tr style=\"text-align: right;\">\n",
       "      <th></th>\n",
       "      <th>ALTERSKATEGORIE_GROB</th>\n",
       "      <th>ANREDE_KZ</th>\n",
       "      <th>FINANZ_MINIMALIST</th>\n",
       "      <th>FINANZ_SPARER</th>\n",
       "      <th>FINANZ_VORSORGER</th>\n",
       "      <th>FINANZ_ANLEGER</th>\n",
       "      <th>FINANZ_UNAUFFAELLIGER</th>\n",
       "      <th>FINANZ_HAUSBAUER</th>\n",
       "      <th>GREEN_AVANTGARDE</th>\n",
       "      <th>HEALTH_TYP</th>\n",
       "      <th>...</th>\n",
       "      <th>PLZ8_GBZ</th>\n",
       "      <th>ARBEIT</th>\n",
       "      <th>ORTSGR_KLS9</th>\n",
       "      <th>RELAT_AB</th>\n",
       "      <th>OST_WEST_KZ_O</th>\n",
       "      <th>OST_WEST_KZ_W</th>\n",
       "      <th>PRAEGENDE_JUGENDJAHRE_DECADE</th>\n",
       "      <th>PRAEGENDE_JUGENDJAHRE_MOVEMEMT</th>\n",
       "      <th>CAMEO_INTL_2015_TENS</th>\n",
       "      <th>CAMEO_INTL_2015_ONES</th>\n",
       "    </tr>\n",
       "  </thead>\n",
       "  <tbody>\n",
       "    <tr>\n",
       "      <th>count</th>\n",
       "      <td>8.912210e+05</td>\n",
       "      <td>8.912210e+05</td>\n",
       "      <td>8.912210e+05</td>\n",
       "      <td>8.912210e+05</td>\n",
       "      <td>8.912210e+05</td>\n",
       "      <td>8.912210e+05</td>\n",
       "      <td>8.912210e+05</td>\n",
       "      <td>8.912210e+05</td>\n",
       "      <td>8.912210e+05</td>\n",
       "      <td>8.912210e+05</td>\n",
       "      <td>...</td>\n",
       "      <td>8.912210e+05</td>\n",
       "      <td>8.912210e+05</td>\n",
       "      <td>8.912210e+05</td>\n",
       "      <td>8.912210e+05</td>\n",
       "      <td>8.912210e+05</td>\n",
       "      <td>8.912210e+05</td>\n",
       "      <td>8.912210e+05</td>\n",
       "      <td>8.912210e+05</td>\n",
       "      <td>8.912210e+05</td>\n",
       "      <td>8.912210e+05</td>\n",
       "    </tr>\n",
       "    <tr>\n",
       "      <th>mean</th>\n",
       "      <td>-8.317109e-16</td>\n",
       "      <td>1.004638e-16</td>\n",
       "      <td>3.507983e-18</td>\n",
       "      <td>9.879756e-17</td>\n",
       "      <td>5.941247e-17</td>\n",
       "      <td>-3.310260e-17</td>\n",
       "      <td>3.897050e-17</td>\n",
       "      <td>1.505562e-16</td>\n",
       "      <td>9.583171e-18</td>\n",
       "      <td>-2.431511e-16</td>\n",
       "      <td>...</td>\n",
       "      <td>-4.084568e-16</td>\n",
       "      <td>-4.200012e-16</td>\n",
       "      <td>2.166279e-15</td>\n",
       "      <td>-2.409187e-16</td>\n",
       "      <td>3.138050e-17</td>\n",
       "      <td>4.860151e-17</td>\n",
       "      <td>-1.131229e-15</td>\n",
       "      <td>-1.104377e-16</td>\n",
       "      <td>2.623174e-16</td>\n",
       "      <td>4.904638e-16</td>\n",
       "    </tr>\n",
       "    <tr>\n",
       "      <th>std</th>\n",
       "      <td>1.000001e+00</td>\n",
       "      <td>1.000001e+00</td>\n",
       "      <td>1.000001e+00</td>\n",
       "      <td>1.000001e+00</td>\n",
       "      <td>1.000001e+00</td>\n",
       "      <td>1.000001e+00</td>\n",
       "      <td>1.000001e+00</td>\n",
       "      <td>1.000001e+00</td>\n",
       "      <td>1.000001e+00</td>\n",
       "      <td>1.000001e+00</td>\n",
       "      <td>...</td>\n",
       "      <td>1.000001e+00</td>\n",
       "      <td>1.000001e+00</td>\n",
       "      <td>1.000001e+00</td>\n",
       "      <td>1.000001e+00</td>\n",
       "      <td>1.000001e+00</td>\n",
       "      <td>1.000001e+00</td>\n",
       "      <td>1.000001e+00</td>\n",
       "      <td>1.000001e+00</td>\n",
       "      <td>1.000001e+00</td>\n",
       "      <td>1.000001e+00</td>\n",
       "    </tr>\n",
       "    <tr>\n",
       "      <th>min</th>\n",
       "      <td>-1.742724e+00</td>\n",
       "      <td>-1.045218e+00</td>\n",
       "      <td>-1.570358e+00</td>\n",
       "      <td>-1.243244e+00</td>\n",
       "      <td>-1.816084e+00</td>\n",
       "      <td>-1.329319e+00</td>\n",
       "      <td>-1.260597e+00</td>\n",
       "      <td>-1.533438e+00</td>\n",
       "      <td>-4.947009e-01</td>\n",
       "      <td>-1.684470e+00</td>\n",
       "      <td>...</td>\n",
       "      <td>-2.297482e+00</td>\n",
       "      <td>-2.297862e+00</td>\n",
       "      <td>-1.974841e+00</td>\n",
       "      <td>-1.612883e+00</td>\n",
       "      <td>-4.829322e-01</td>\n",
       "      <td>-1.550999e+00</td>\n",
       "      <td>-2.436499e+00</td>\n",
       "      <td>-5.727990e-01</td>\n",
       "      <td>-1.638664e+00</td>\n",
       "      <td>-1.338297e+00</td>\n",
       "    </tr>\n",
       "    <tr>\n",
       "      <th>25%</th>\n",
       "      <td>-7.509715e-01</td>\n",
       "      <td>-1.045218e+00</td>\n",
       "      <td>-8.133868e-01</td>\n",
       "      <td>-1.243244e+00</td>\n",
       "      <td>-3.033778e-01</td>\n",
       "      <td>-6.755539e-01</td>\n",
       "      <td>-5.879796e-01</td>\n",
       "      <td>-7.944745e-01</td>\n",
       "      <td>-4.947009e-01</td>\n",
       "      <td>-2.691018e-01</td>\n",
       "      <td>...</td>\n",
       "      <td>-3.677058e-01</td>\n",
       "      <td>-1.767775e-01</td>\n",
       "      <td>-5.949232e-01</td>\n",
       "      <td>-8.341011e-01</td>\n",
       "      <td>-4.829322e-01</td>\n",
       "      <td>-1.550999e+00</td>\n",
       "      <td>-2.433020e-01</td>\n",
       "      <td>-5.727990e-01</td>\n",
       "      <td>-9.142640e-01</td>\n",
       "      <td>-1.338297e+00</td>\n",
       "    </tr>\n",
       "    <tr>\n",
       "      <th>50%</th>\n",
       "      <td>2.407808e-01</td>\n",
       "      <td>9.567382e-01</td>\n",
       "      <td>-5.641562e-02</td>\n",
       "      <td>1.221788e-01</td>\n",
       "      <td>-3.033778e-01</td>\n",
       "      <td>-2.178896e-02</td>\n",
       "      <td>8.463740e-02</td>\n",
       "      <td>-5.551131e-02</td>\n",
       "      <td>-4.947009e-01</td>\n",
       "      <td>-2.691018e-01</td>\n",
       "      <td>...</td>\n",
       "      <td>-4.284963e-16</td>\n",
       "      <td>-1.767775e-01</td>\n",
       "      <td>-1.349507e-01</td>\n",
       "      <td>-5.531897e-02</td>\n",
       "      <td>-4.829322e-01</td>\n",
       "      <td>6.447458e-01</td>\n",
       "      <td>-1.298633e-15</td>\n",
       "      <td>-5.727990e-01</td>\n",
       "      <td>3.216984e-16</td>\n",
       "      <td>9.071870e-02</td>\n",
       "    </tr>\n",
       "    <tr>\n",
       "      <th>75%</th>\n",
       "      <td>1.232533e+00</td>\n",
       "      <td>9.567382e-01</td>\n",
       "      <td>7.005556e-01</td>\n",
       "      <td>8.048901e-01</td>\n",
       "      <td>1.209329e+00</td>\n",
       "      <td>1.285741e+00</td>\n",
       "      <td>7.572544e-01</td>\n",
       "      <td>6.834519e-01</td>\n",
       "      <td>-4.947009e-01</td>\n",
       "      <td>1.146266e+00</td>\n",
       "      <td>...</td>\n",
       "      <td>5.971822e-01</td>\n",
       "      <td>8.837647e-01</td>\n",
       "      <td>7.849944e-01</td>\n",
       "      <td>7.234631e-01</td>\n",
       "      <td>-4.829322e-01</td>\n",
       "      <td>6.447458e-01</td>\n",
       "      <td>1.218829e+00</td>\n",
       "      <td>-1.420953e-16</td>\n",
       "      <td>1.258937e+00</td>\n",
       "      <td>8.052265e-01</td>\n",
       "    </tr>\n",
       "    <tr>\n",
       "      <th>max</th>\n",
       "      <td>1.232533e+00</td>\n",
       "      <td>9.567382e-01</td>\n",
       "      <td>1.457527e+00</td>\n",
       "      <td>1.487601e+00</td>\n",
       "      <td>1.209329e+00</td>\n",
       "      <td>1.285741e+00</td>\n",
       "      <td>1.429871e+00</td>\n",
       "      <td>1.422415e+00</td>\n",
       "      <td>2.021423e+00</td>\n",
       "      <td>1.146266e+00</td>\n",
       "      <td>...</td>\n",
       "      <td>1.562070e+00</td>\n",
       "      <td>1.944307e+00</td>\n",
       "      <td>1.704939e+00</td>\n",
       "      <td>1.502245e+00</td>\n",
       "      <td>2.070684e+00</td>\n",
       "      <td>6.447458e-01</td>\n",
       "      <td>1.218829e+00</td>\n",
       "      <td>1.986963e+00</td>\n",
       "      <td>1.258937e+00</td>\n",
       "      <td>1.519734e+00</td>\n",
       "    </tr>\n",
       "  </tbody>\n",
       "</table>\n",
       "<p>8 rows × 69 columns</p>\n",
       "</div>"
      ],
      "text/plain": [
       "       ALTERSKATEGORIE_GROB     ANREDE_KZ  FINANZ_MINIMALIST  FINANZ_SPARER  \\\n",
       "count          8.912210e+05  8.912210e+05       8.912210e+05   8.912210e+05   \n",
       "mean          -8.317109e-16  1.004638e-16       3.507983e-18   9.879756e-17   \n",
       "std            1.000001e+00  1.000001e+00       1.000001e+00   1.000001e+00   \n",
       "min           -1.742724e+00 -1.045218e+00      -1.570358e+00  -1.243244e+00   \n",
       "25%           -7.509715e-01 -1.045218e+00      -8.133868e-01  -1.243244e+00   \n",
       "50%            2.407808e-01  9.567382e-01      -5.641562e-02   1.221788e-01   \n",
       "75%            1.232533e+00  9.567382e-01       7.005556e-01   8.048901e-01   \n",
       "max            1.232533e+00  9.567382e-01       1.457527e+00   1.487601e+00   \n",
       "\n",
       "       FINANZ_VORSORGER  FINANZ_ANLEGER  FINANZ_UNAUFFAELLIGER  \\\n",
       "count      8.912210e+05    8.912210e+05           8.912210e+05   \n",
       "mean       5.941247e-17   -3.310260e-17           3.897050e-17   \n",
       "std        1.000001e+00    1.000001e+00           1.000001e+00   \n",
       "min       -1.816084e+00   -1.329319e+00          -1.260597e+00   \n",
       "25%       -3.033778e-01   -6.755539e-01          -5.879796e-01   \n",
       "50%       -3.033778e-01   -2.178896e-02           8.463740e-02   \n",
       "75%        1.209329e+00    1.285741e+00           7.572544e-01   \n",
       "max        1.209329e+00    1.285741e+00           1.429871e+00   \n",
       "\n",
       "       FINANZ_HAUSBAUER  GREEN_AVANTGARDE    HEALTH_TYP          ...           \\\n",
       "count      8.912210e+05      8.912210e+05  8.912210e+05          ...            \n",
       "mean       1.505562e-16      9.583171e-18 -2.431511e-16          ...            \n",
       "std        1.000001e+00      1.000001e+00  1.000001e+00          ...            \n",
       "min       -1.533438e+00     -4.947009e-01 -1.684470e+00          ...            \n",
       "25%       -7.944745e-01     -4.947009e-01 -2.691018e-01          ...            \n",
       "50%       -5.551131e-02     -4.947009e-01 -2.691018e-01          ...            \n",
       "75%        6.834519e-01     -4.947009e-01  1.146266e+00          ...            \n",
       "max        1.422415e+00      2.021423e+00  1.146266e+00          ...            \n",
       "\n",
       "           PLZ8_GBZ        ARBEIT   ORTSGR_KLS9      RELAT_AB  OST_WEST_KZ_O  \\\n",
       "count  8.912210e+05  8.912210e+05  8.912210e+05  8.912210e+05   8.912210e+05   \n",
       "mean  -4.084568e-16 -4.200012e-16  2.166279e-15 -2.409187e-16   3.138050e-17   \n",
       "std    1.000001e+00  1.000001e+00  1.000001e+00  1.000001e+00   1.000001e+00   \n",
       "min   -2.297482e+00 -2.297862e+00 -1.974841e+00 -1.612883e+00  -4.829322e-01   \n",
       "25%   -3.677058e-01 -1.767775e-01 -5.949232e-01 -8.341011e-01  -4.829322e-01   \n",
       "50%   -4.284963e-16 -1.767775e-01 -1.349507e-01 -5.531897e-02  -4.829322e-01   \n",
       "75%    5.971822e-01  8.837647e-01  7.849944e-01  7.234631e-01  -4.829322e-01   \n",
       "max    1.562070e+00  1.944307e+00  1.704939e+00  1.502245e+00   2.070684e+00   \n",
       "\n",
       "       OST_WEST_KZ_W  PRAEGENDE_JUGENDJAHRE_DECADE  \\\n",
       "count   8.912210e+05                  8.912210e+05   \n",
       "mean    4.860151e-17                 -1.131229e-15   \n",
       "std     1.000001e+00                  1.000001e+00   \n",
       "min    -1.550999e+00                 -2.436499e+00   \n",
       "25%    -1.550999e+00                 -2.433020e-01   \n",
       "50%     6.447458e-01                 -1.298633e-15   \n",
       "75%     6.447458e-01                  1.218829e+00   \n",
       "max     6.447458e-01                  1.218829e+00   \n",
       "\n",
       "       PRAEGENDE_JUGENDJAHRE_MOVEMEMT  CAMEO_INTL_2015_TENS  \\\n",
       "count                    8.912210e+05          8.912210e+05   \n",
       "mean                    -1.104377e-16          2.623174e-16   \n",
       "std                      1.000001e+00          1.000001e+00   \n",
       "min                     -5.727990e-01         -1.638664e+00   \n",
       "25%                     -5.727990e-01         -9.142640e-01   \n",
       "50%                     -5.727990e-01          3.216984e-16   \n",
       "75%                     -1.420953e-16          1.258937e+00   \n",
       "max                      1.986963e+00          1.258937e+00   \n",
       "\n",
       "       CAMEO_INTL_2015_ONES  \n",
       "count          8.912210e+05  \n",
       "mean           4.904638e-16  \n",
       "std            1.000001e+00  \n",
       "min           -1.338297e+00  \n",
       "25%           -1.338297e+00  \n",
       "50%            9.071870e-02  \n",
       "75%            8.052265e-01  \n",
       "max            1.519734e+00  \n",
       "\n",
       "[8 rows x 69 columns]"
      ]
     },
     "execution_count": 66,
     "metadata": {},
     "output_type": "execute_result"
    }
   ],
   "source": [
    "#check\n",
    "scaled_azdias.describe()"
   ]
  },
  {
   "cell_type": "markdown",
   "metadata": {},
   "source": [
    "### Discussion 2.1: Apply Feature Scaling\n",
    "\n",
    "## Answer\n",
    "To clean the dataset of all NaN values, the Imputer function was used with all the parameters left as the default option, especially the strategy parameter, which is deflated to the mean along the columns. Then, the Standard Scaler preprocessing fitted on cleaned imputed azdias."
   ]
  },
  {
   "cell_type": "markdown",
   "metadata": {},
   "source": [
    "### Step 2.2: Perform Dimensionality Reduction\n",
    "\n",
    "On your scaled data, you are now ready to apply dimensionality reduction techniques.\n",
    "\n",
    "- Use sklearn's [PCA](http://scikit-learn.org/stable/modules/generated/sklearn.decomposition.PCA.html) class to apply principal component analysis on the data, thus finding the vectors of maximal variance in the data. To start, you should not set any parameters (so all components are computed) or set a number of components that is at least half the number of features (so there's enough features to see the general trend in variability).\n",
    "- Check out the ratio of variance explained by each principal component as well as the cumulative variance explained. Try plotting the cumulative or sequential values using matplotlib's [`plot()`](https://matplotlib.org/api/_as_gen/matplotlib.pyplot.plot.html) function. Based on what you find, select a value for the number of transformed features you'll retain for the clustering part of the project.\n",
    "- Once you've made a choice for the number of components to keep, make sure you re-fit a PCA instance to perform the decided-on transformation."
   ]
  },
  {
   "cell_type": "code",
   "execution_count": 67,
   "metadata": {},
   "outputs": [],
   "source": [
    "# Apply PCA to the data.\n",
    "pca = PCA()\n",
    "pca_azdias = pca.fit_transform(scaled_azdias)"
   ]
  },
  {
   "cell_type": "code",
   "execution_count": 68,
   "metadata": {},
   "outputs": [
    {
     "data": {
      "image/png": "[encoded data removed]",
      "text/plain": [
       "<matplotlib.figure.Figure at 0x7f3618d112b0>"
      ]
     },
     "metadata": {
      "needs_background": "light"
     },
     "output_type": "display_data"
    }
   ],
   "source": [
    "# Investigate the variance accounted for by each principal component.\n",
    "plt.bar(range(len(pca.explained_variance_ratio_)), pca.explained_variance_ratio_)\n",
    "plt.plot(range(len(pca.explained_variance_ratio_)),np.cumsum(pca.explained_variance_ratio_))\n",
    "plt.grid()\n",
    "plt.show()"
   ]
  },
  {
   "cell_type": "code",
   "execution_count": 69,
   "metadata": {},
   "outputs": [],
   "source": [
    "# Re-apply PCA to the data while selecting for number of components to retain.\n",
    "pca_35 = PCA(n_components=35)\n",
    "pca_35_azdias = pca_35.fit_transform(scaled_azdias)"
   ]
  },
  {
   "cell_type": "markdown",
   "metadata": {},
   "source": [
    "### Discussion 2.2: Perform Dimensionality Reduction\n",
    "\n",
    "## Answer\n",
    "Looking at the graphs it seems that 35 would be the most appropriate number of principal components to be chosen since it captures almost 90% of the data variance and reduces the number of features by almost 50%."
   ]
  },
  {
   "cell_type": "markdown",
   "metadata": {},
   "source": [
    "### Step 2.3: Interpret Principal Components\n",
    "\n",
    "Now that we have our transformed principal components, it's a nice idea to check out the weight of each variable on the first few components to see if they can be interpreted in some fashion.\n",
    "\n",
    "As a reminder, each principal component is a unit vector that points in the direction of highest variance (after accounting for the variance captured by earlier principal components). The further a weight is from zero, the more the principal component is in the direction of the corresponding feature. If two features have large weights of the same sign (both positive or both negative), then increases in one tend expect to be associated with increases in the other. To contrast, features with different signs can be expected to show a negative correlation: increases in one variable should result in a decrease in the other.\n",
    "\n",
    "- To investigate the features, you should map each weight to their corresponding feature name, then sort the features according to weight. The most interesting features for each principal component, then, will be those at the beginning and end of the sorted list. Use the data dictionary document to help you understand these most prominent features, their relationships, and what a positive or negative value on the principal component might indicate.\n",
    "- You should investigate and interpret feature associations from the first three principal components in this substep. To help facilitate this, you should write a function that you can call at any time to print the sorted list of feature weights, for the *i*-th principal component. This might come in handy in the next step of the project, when you interpret the tendencies of the discovered clusters."
   ]
  },
  {
   "cell_type": "code",
   "execution_count": 70,
   "metadata": {},
   "outputs": [],
   "source": [
    "# Map weights for the first principal component to corresponding feature names\n",
    "# and then print the linked values, sorted by weight.\n",
    "# HINT: Try defining a function here or in a new cell that you can reuse in the\n",
    "# other cells.\n",
    "def map_weights(pca,w):\n",
    "    df = pd.DataFrame(pca.components_, columns=scaled_azdias.columns)\n",
    "    maped_weights = df.iloc[w].sort_values(ascending=False)\n",
    "    return maped_weights"
   ]
  },
  {
   "cell_type": "code",
   "execution_count": 71,
   "metadata": {},
   "outputs": [
    {
     "name": "stdout",
     "output_type": "stream",
     "text": [
      "PLZ8_ANTG3                        0.228130\n",
      "PLZ8_ANTG4                        0.222639\n",
      "PLZ8_BAUMAX                       0.218139\n",
      "CAMEO_INTL_2015_TENS              0.202920\n",
      "ORTSGR_KLS9                       0.200576\n",
      "EWDICHTE                          0.197851\n",
      "HH_EINKOMMEN_SCORE                0.173752\n",
      "FINANZ_HAUSBAUER                  0.163578\n",
      "PLZ8_ANTG2                        0.153709\n",
      "KBA05_ANTG4                       0.152879\n",
      "ARBEIT                            0.145263\n",
      "ANZ_HAUSHALTE_AKTIV               0.135796\n",
      "RELAT_AB                          0.135385\n",
      "KBA05_ANTG3                       0.131841\n",
      "FINANZ_SPARER                     0.108538\n",
      "SEMIO_PFLICHT                     0.081236\n",
      "SEMIO_REL                         0.074760\n",
      "REGIOTYP                          0.067632\n",
      "SEMIO_RAT                         0.066226\n",
      "PRAEGENDE_JUGENDJAHRE_DECADE      0.065379\n",
      "W_KEIT_KIND_HH                    0.058335\n",
      "SEMIO_MAT                         0.056474\n",
      "OST_WEST_KZ_O                     0.056432\n",
      "SEMIO_FAM                         0.055980\n",
      "SEMIO_TRADV                       0.054925\n",
      "SEMIO_KAEM                        0.046870\n",
      "FINANZ_UNAUFFAELLIGER             0.042977\n",
      "SEMIO_KULT                        0.042867\n",
      "PLZ8_HHZ                          0.041490\n",
      "FINANZ_ANLEGER                    0.039621\n",
      "                                    ...   \n",
      "RETOURTYP_BK_S                    0.001565\n",
      "SOHO_KZ                          -0.002271\n",
      "ANZ_TITEL                        -0.003011\n",
      "SEMIO_VERT                       -0.042268\n",
      "SEMIO_LUST                       -0.044812\n",
      "SEMIO_ERL                        -0.049047\n",
      "WOHNDAUER_2008                   -0.051254\n",
      "MIN_GEBAEUDEJAHR                 -0.051498\n",
      "OST_WEST_KZ_W                    -0.055164\n",
      "ONLINE_AFFINITAET                -0.065104\n",
      "KBA13_ANZAHL_PKW                 -0.080245\n",
      "ALTERSKATEGORIE_GROB             -0.080565\n",
      "FINANZ_VORSORGER                 -0.081941\n",
      "WOHNLAGE                         -0.086972\n",
      "ANZ_PERSONEN                     -0.093653\n",
      "PRAEGENDE_JUGENDJAHRE_MOVEMEMT   -0.099216\n",
      "GREEN_AVANTGARDE                 -0.101843\n",
      "CAMEO_INTL_2015_ONES             -0.117744\n",
      "GEBAEUDETYP_RASTER               -0.118602\n",
      "LP_LEBENSPHASE_GROB              -0.126765\n",
      "BALLRAUM                         -0.128674\n",
      "LP_LEBENSPHASE_FEIN              -0.140788\n",
      "INNENSTADT                       -0.166741\n",
      "KONSUMNAEHE                      -0.167515\n",
      "PLZ8_GBZ                         -0.170482\n",
      "FINANZ_MINIMALIST                -0.195986\n",
      "KBA05_GBZ                        -0.214267\n",
      "KBA05_ANTG1                      -0.221589\n",
      "PLZ8_ANTG1                       -0.227933\n",
      "MOBI_REGIO                       -0.238518\n",
      "Name: 0, Length: 69, dtype: float64\n"
     ]
    }
   ],
   "source": [
    "w_1 = map_weights(pca_35, 0)\n",
    "print(w_1)"
   ]
  },
  {
   "cell_type": "code",
   "execution_count": 72,
   "metadata": {},
   "outputs": [
    {
     "name": "stdout",
     "output_type": "stream",
     "text": [
      "ALTERSKATEGORIE_GROB            0.279022\n",
      "FINANZ_VORSORGER                0.259083\n",
      "SEMIO_ERL                       0.227910\n",
      "SEMIO_LUST                      0.189831\n",
      "RETOURTYP_BK_S                  0.172659\n",
      "W_KEIT_KIND_HH                  0.122935\n",
      "FINANZ_MINIMALIST               0.111841\n",
      "FINANZ_HAUSBAUER                0.089600\n",
      "WOHNDAUER_2008                  0.070530\n",
      "EWDICHTE                        0.066020\n",
      "ORTSGR_KLS9                     0.064817\n",
      "PLZ8_ANTG3                      0.061787\n",
      "PLZ8_ANTG4                      0.058955\n",
      "SEMIO_KRIT                      0.057792\n",
      "PLZ8_BAUMAX                     0.054581\n",
      "SEMIO_KAEM                      0.053588\n",
      "ANREDE_KZ                       0.050427\n",
      "ARBEIT                          0.048004\n",
      "RELAT_AB                        0.046609\n",
      "KBA05_ANTG4                     0.046119\n",
      "HH_EINKOMMEN_SCORE              0.045717\n",
      "CAMEO_INTL_2015_TENS            0.044076\n",
      "ANZ_HAUSHALTE_AKTIV             0.043423\n",
      "PLZ8_ANTG2                      0.042866\n",
      "VERS_TYP                        0.031174\n",
      "OST_WEST_KZ_O                   0.026586\n",
      "ANZ_HH_TITEL                    0.026466\n",
      "SEMIO_DOM                       0.023742\n",
      "KBA05_ANTG3                     0.021983\n",
      "CAMEO_INTL_2015_ONES            0.019894\n",
      "                                  ...   \n",
      "KBA05_ANTG2                    -0.011613\n",
      "LP_LEBENSPHASE_FEIN            -0.020357\n",
      "KBA13_ANZAHL_PKW               -0.025581\n",
      "GEBAEUDETYP_RASTER             -0.028347\n",
      "LP_LEBENSPHASE_GROB            -0.028805\n",
      "MIN_GEBAEUDEJAHR               -0.043104\n",
      "WOHNLAGE                       -0.043119\n",
      "BALLRAUM                       -0.043642\n",
      "KBA05_ANTG1                    -0.044017\n",
      "KONSUMNAEHE                    -0.046201\n",
      "PLZ8_GBZ                       -0.048620\n",
      "ANZ_PERSONEN                   -0.051588\n",
      "MOBI_REGIO                     -0.052221\n",
      "INNENSTADT                     -0.052522\n",
      "KBA05_GBZ                      -0.054943\n",
      "PLZ8_ANTG1                     -0.058981\n",
      "SEMIO_SOZ                      -0.059659\n",
      "HEALTH_TYP                     -0.064377\n",
      "ONLINE_AFFINITAET              -0.153506\n",
      "SEMIO_MAT                      -0.174914\n",
      "SEMIO_FAM                      -0.178799\n",
      "SEMIO_KULT                     -0.190412\n",
      "SEMIO_RAT                      -0.203244\n",
      "FINANZ_ANLEGER                 -0.234132\n",
      "SEMIO_TRADV                    -0.239505\n",
      "FINANZ_UNAUFFAELLIGER          -0.243789\n",
      "SEMIO_PFLICHT                  -0.252986\n",
      "SEMIO_REL                      -0.260013\n",
      "FINANZ_SPARER                  -0.269162\n",
      "PRAEGENDE_JUGENDJAHRE_DECADE   -0.270929\n",
      "Name: 1, Length: 69, dtype: float64\n"
     ]
    }
   ],
   "source": [
    "# Map weights for the second principal component to corresponding feature names\n",
    "# and then print the linked values, sorted by weight.\n",
    "w_2 = map_weights(pca_35, 1)\n",
    "print(w_2)"
   ]
  },
  {
   "cell_type": "code",
   "execution_count": 73,
   "metadata": {},
   "outputs": [
    {
     "name": "stdout",
     "output_type": "stream",
     "text": [
      "SEMIO_VERT                        0.354548\n",
      "SEMIO_SOZ                         0.291610\n",
      "SEMIO_KULT                        0.283972\n",
      "SEMIO_FAM                         0.237393\n",
      "FINANZ_MINIMALIST                 0.136011\n",
      "RETOURTYP_BK_S                    0.077372\n",
      "SEMIO_MAT                         0.068864\n",
      "GREEN_AVANTGARDE                  0.063234\n",
      "FINANZ_VORSORGER                  0.062363\n",
      "W_KEIT_KIND_HH                    0.062141\n",
      "SEMIO_REL                         0.060336\n",
      "PRAEGENDE_JUGENDJAHRE_MOVEMEMT    0.045970\n",
      "OST_WEST_KZ_W                     0.042964\n",
      "ALTERSKATEGORIE_GROB              0.037883\n",
      "PLZ8_BAUMAX                       0.034897\n",
      "ORTSGR_KLS9                       0.032294\n",
      "PLZ8_ANTG4                        0.032019\n",
      "EWDICHTE                          0.031149\n",
      "PLZ8_ANTG3                        0.030846\n",
      "OST_WEST_KZ_O                     0.023431\n",
      "ARBEIT                            0.022837\n",
      "HH_EINKOMMEN_SCORE                0.021849\n",
      "RELAT_AB                          0.021615\n",
      "PLZ8_ANTG2                        0.020733\n",
      "WOHNDAUER_2008                    0.018894\n",
      "CAMEO_INTL_2015_TENS              0.016977\n",
      "KBA05_ANTG4                       0.015381\n",
      "SEMIO_LUST                        0.015039\n",
      "ANZ_HAUSHALTE_AKTIV               0.014690\n",
      "ANZ_TITEL                         0.007820\n",
      "                                    ...   \n",
      "KBA05_ANTG2                      -0.008201\n",
      "MIN_GEBAEUDEJAHR                 -0.010332\n",
      "KBA05_ANTG1                      -0.011571\n",
      "ONLINE_AFFINITAET                -0.011624\n",
      "CAMEO_INTL_2015_ONES             -0.011694\n",
      "WOHNLAGE                         -0.012072\n",
      "KKK                              -0.012367\n",
      "KBA05_GBZ                        -0.012963\n",
      "HEALTH_TYP                       -0.014791\n",
      "MOBI_REGIO                       -0.016107\n",
      "KBA13_ANZAHL_PKW                 -0.017568\n",
      "SEMIO_TRADV                      -0.019391\n",
      "GEBAEUDETYP_RASTER               -0.023069\n",
      "BALLRAUM                         -0.024276\n",
      "KONSUMNAEHE                      -0.025908\n",
      "PLZ8_GBZ                         -0.027569\n",
      "INNENSTADT                       -0.030047\n",
      "PLZ8_ANTG1                       -0.031989\n",
      "SEMIO_PFLICHT                    -0.045225\n",
      "PRAEGENDE_JUGENDJAHRE_DECADE     -0.054831\n",
      "FINANZ_HAUSBAUER                 -0.057561\n",
      "FINANZ_SPARER                    -0.080527\n",
      "FINANZ_UNAUFFAELLIGER            -0.093607\n",
      "FINANZ_ANLEGER                   -0.173912\n",
      "SEMIO_RAT                        -0.178891\n",
      "SEMIO_ERL                        -0.183616\n",
      "SEMIO_KRIT                       -0.309009\n",
      "SEMIO_DOM                        -0.332285\n",
      "SEMIO_KAEM                       -0.360603\n",
      "ANREDE_KZ                        -0.361748\n",
      "Name: 2, Length: 69, dtype: float64\n"
     ]
    }
   ],
   "source": [
    "# Map weights for the third principal component to corresponding feature names\n",
    "# and then print the linked values, sorted by weight.\n",
    "w_3 = map_weights(pca_35, 2)\n",
    "print(w_3)"
   ]
  },
  {
   "cell_type": "markdown",
   "metadata": {},
   "source": [
    "### Discussion 2.3: Interpret Principal Components\n",
    "\n",
    "## Answer \n",
    "-Looking at the first component, it's clear that  PLZ8_ANTG3 and PLZ8_ANTG4 have a positive correlation since they both represent Number family houses in the PLZ8 region. On the other hand, MOBI_REGIO has a negative correlation with PLZ8_ANTG3 since MOBI_REGIO represent movement patterns instead of settling down in a family house.\n",
    "<br>\n",
    "-In the second component, it's shown that FINANZ_MINIMALIST which is an individual with a low financial interest has a negative correlation with ONLINE_AFFINITAET. This might be because of how high is the price of the technology to get connected online.\n",
    "<br>\n",
    "-in the third component, the EWDICHTE which density of households per square kilometer has a negative correlation with INNENSTADT which is the distance to the city center. This also makes sense since the density of households per square kilometer decrease when the distance to the city center increase."
   ]
  },
  {
   "cell_type": "markdown",
   "metadata": {},
   "source": [
    "## Step 3: Clustering\n",
    "\n",
    "### Step 3.1: Apply Clustering to General Population\n",
    "\n",
    "You've assessed and cleaned the demographics data, then scaled and transformed them. Now, it's time to see how the data clusters in the principal components space. In this substep, you will apply k-means clustering to the dataset and use the average within-cluster distances from each point to their assigned cluster's centroid to decide on a number of clusters to keep.\n",
    "\n",
    "- Use sklearn's [KMeans](http://scikit-learn.org/stable/modules/generated/sklearn.cluster.KMeans.html#sklearn.cluster.KMeans) class to perform k-means clustering on the PCA-transformed data.\n",
    "- Then, compute the average difference from each point to its assigned cluster's center. **Hint**: The KMeans object's `.score()` method might be useful here, but note that in sklearn, scores tend to be defined so that larger is better. Try applying it to a small, toy dataset, or use an internet search to help your understanding.\n",
    "- Perform the above two steps for a number of different cluster counts. You can then see how the average distance decreases with an increasing number of clusters. However, each additional cluster provides a smaller net benefit. Use this fact to select a final number of clusters in which to group the data. **Warning**: because of the large size of the dataset, it can take a long time for the algorithm to resolve. The more clusters to fit, the longer the algorithm will take. You should test for cluster counts through at least 10 clusters to get the full picture, but you shouldn't need to test for a number of clusters above about 30.\n",
    "- Once you've selected a final number of clusters to use, re-fit a KMeans instance to perform the clustering operation. Make sure that you also obtain the cluster assignments for the general demographics data, since you'll be using them in the final Step 3.3."
   ]
  },
  {
   "cell_type": "code",
   "execution_count": 74,
   "metadata": {},
   "outputs": [],
   "source": [
    "# Over a number of different cluster counts...\n",
    "# run k-means clustering on the data and...\n",
    "# compute the average within-cluster distances.\n",
    "def k_means_score(df,n):\n",
    "    k_means = KMeans(n_clusters=n)\n",
    "    k_means_model = k_means.fit(df)\n",
    "    score = np.abs(k_means_model.score(df))\n",
    "    return score\n",
    "\n",
    "k_means_scores = []\n",
    "for i in range(1,15):\n",
    "    k_means_scores.append(k_means_score(pca_35_azdias,i))"
   ]
  },
  {
   "cell_type": "code",
   "execution_count": 75,
   "metadata": {},
   "outputs": [
    {
     "data": {
      "image/png": "[encoded data removed]",
      "text/plain": [
       "<matplotlib.figure.Figure at 0x7f3618fab160>"
      ]
     },
     "metadata": {
      "needs_background": "light"
     },
     "output_type": "display_data"
    }
   ],
   "source": [
    "# Investigate the change in within-cluster distance across number of clusters.\n",
    "# HINT: Use matplotlib's plot function to visualize this relationship.\n",
    "plt.plot(range(1,15), k_means_scores)\n",
    "plt.grid()\n",
    "plt.show()"
   ]
  },
  {
   "cell_type": "code",
   "execution_count": 76,
   "metadata": {},
   "outputs": [],
   "source": [
    "# Re-fit the k-means model with the selected number of clusters and obtain\n",
    "# cluster predictions for the general population demographics data.\n",
    "k_means_8 = KMeans(n_clusters=8)\n",
    "k_means_model_8 = k_means_8.fit(pca_35_azdias)\n",
    "k_means_8_predictions = k_means_model_8.predict(pca_35_azdias)"
   ]
  },
  {
   "cell_type": "markdown",
   "metadata": {},
   "source": [
    "### Discussion 3.1: Apply Clustering to General Population\n",
    "\n",
    "## Answer\n",
    "\n",
    "Looking at the graph above and using the elbow theory, choosing k to be 8 is the most appropriate."
   ]
  },
  {
   "cell_type": "markdown",
   "metadata": {},
   "source": [
    "### Step 3.2: Apply All Steps to the Customer Data\n",
    "\n",
    "Now that you have clusters and cluster centers for the general population, it's time to see how the customer data maps on to those clusters. Take care to not confuse this for re-fitting all of the models to the customer data. Instead, you're going to use the fits from the general population to clean, transform, and cluster the customer data. In the last step of the project, you will interpret how the general population fits apply to the customer data.\n",
    "\n",
    "- Don't forget when loading in the customers data, that it is semicolon (`;`) delimited.\n",
    "- Apply the same feature wrangling, selection, and engineering steps to the customer demographics using the `clean_data()` function you created earlier. (You can assume that the customer demographics data has similar meaning behind missing data patterns as the general demographics data.)\n",
    "- Use the sklearn objects from the general demographics data, and apply their transformations to the customers data. That is, you should not be using a `.fit()` or `.fit_transform()` method to re-fit the old objects, nor should you be creating new sklearn objects! Carry the data through the feature scaling, PCA, and clustering steps, obtaining cluster assignments for all of the data in the customer demographics data."
   ]
  },
  {
   "cell_type": "code",
   "execution_count": 119,
   "metadata": {},
   "outputs": [],
   "source": [
    "# Load in the customer demographics data.\n",
    "customers = pd.read_csv('Udacity_CUSTOMERS_Subset.csv',sep=';')"
   ]
  },
  {
   "cell_type": "code",
   "execution_count": 120,
   "metadata": {},
   "outputs": [],
   "source": [
    "# Apply preprocessing, feature transformation, and clustering from the general\n",
    "# demographics onto the customer data, obtaining cluster predictions for the\n",
    "# customer demographics data.\n",
    "cleaned_customers = clean_data(customers)"
   ]
  },
  {
   "cell_type": "code",
   "execution_count": 121,
   "metadata": {},
   "outputs": [],
   "source": [
    "cleaned_imputed_customers = pd.DataFrame(Imputer().fit_transform(cleaned_customers), columns=cleaned_customers.columns)"
   ]
  },
  {
   "cell_type": "code",
   "execution_count": 122,
   "metadata": {},
   "outputs": [],
   "source": [
    "scaler_transform_customers = scaler.transform(cleaned_imputed_customers)\n",
    "scaled_customers = pd.DataFrame(scaler_transform_customers, columns=cleaned_imputed_customers.columns)"
   ]
  },
  {
   "cell_type": "code",
   "execution_count": 123,
   "metadata": {},
   "outputs": [
    {
     "data": {
      "text/html": [
       "<div>\n",
       "<style scoped>\n",
       "    .dataframe tbody tr th:only-of-type {\n",
       "        vertical-align: middle;\n",
       "    }\n",
       "\n",
       "    .dataframe tbody tr th {\n",
       "        vertical-align: top;\n",
       "    }\n",
       "\n",
       "    .dataframe thead th {\n",
       "        text-align: right;\n",
       "    }\n",
       "</style>\n",
       "<table border=\"1\" class=\"dataframe\">\n",
       "  <thead>\n",
       "    <tr style=\"text-align: right;\">\n",
       "      <th></th>\n",
       "      <th>ALTERSKATEGORIE_GROB</th>\n",
       "      <th>ANREDE_KZ</th>\n",
       "      <th>FINANZ_MINIMALIST</th>\n",
       "      <th>FINANZ_SPARER</th>\n",
       "      <th>FINANZ_VORSORGER</th>\n",
       "      <th>FINANZ_ANLEGER</th>\n",
       "      <th>FINANZ_UNAUFFAELLIGER</th>\n",
       "      <th>FINANZ_HAUSBAUER</th>\n",
       "      <th>GREEN_AVANTGARDE</th>\n",
       "      <th>HEALTH_TYP</th>\n",
       "      <th>...</th>\n",
       "      <th>PLZ8_GBZ</th>\n",
       "      <th>ARBEIT</th>\n",
       "      <th>ORTSGR_KLS9</th>\n",
       "      <th>RELAT_AB</th>\n",
       "      <th>OST_WEST_KZ_O</th>\n",
       "      <th>OST_WEST_KZ_W</th>\n",
       "      <th>PRAEGENDE_JUGENDJAHRE_DECADE</th>\n",
       "      <th>PRAEGENDE_JUGENDJAHRE_MOVEMEMT</th>\n",
       "      <th>CAMEO_INTL_2015_TENS</th>\n",
       "      <th>CAMEO_INTL_2015_ONES</th>\n",
       "    </tr>\n",
       "  </thead>\n",
       "  <tbody>\n",
       "    <tr>\n",
       "      <th>count</th>\n",
       "      <td>191652.000000</td>\n",
       "      <td>191652.000000</td>\n",
       "      <td>191652.000000</td>\n",
       "      <td>191652.000000</td>\n",
       "      <td>191652.000000</td>\n",
       "      <td>191652.000000</td>\n",
       "      <td>191652.000000</td>\n",
       "      <td>191652.000000</td>\n",
       "      <td>191652.000000</td>\n",
       "      <td>191652.000000</td>\n",
       "      <td>...</td>\n",
       "      <td>191652.000000</td>\n",
       "      <td>191652.000000</td>\n",
       "      <td>191652.000000</td>\n",
       "      <td>191652.000000</td>\n",
       "      <td>191652.000000</td>\n",
       "      <td>191652.000000</td>\n",
       "      <td>191652.000000</td>\n",
       "      <td>191652.000000</td>\n",
       "      <td>191652.000000</td>\n",
       "      <td>191652.000000</td>\n",
       "    </tr>\n",
       "    <tr>\n",
       "      <th>mean</th>\n",
       "      <td>0.293800</td>\n",
       "      <td>-0.291617</td>\n",
       "      <td>0.673133</td>\n",
       "      <td>-0.521583</td>\n",
       "      <td>0.591628</td>\n",
       "      <td>-0.388023</td>\n",
       "      <td>-0.153350</td>\n",
       "      <td>-0.217214</td>\n",
       "      <td>0.429146</td>\n",
       "      <td>-0.335167</td>\n",
       "      <td>...</td>\n",
       "      <td>0.232640</td>\n",
       "      <td>-0.363599</td>\n",
       "      <td>-0.079976</td>\n",
       "      <td>-0.135132</td>\n",
       "      <td>-0.331795</td>\n",
       "      <td>-0.057221</td>\n",
       "      <td>-1.057618</td>\n",
       "      <td>0.685385</td>\n",
       "      <td>-0.480521</td>\n",
       "      <td>0.353779</td>\n",
       "    </tr>\n",
       "    <tr>\n",
       "      <th>std</th>\n",
       "      <td>1.056912</td>\n",
       "      <td>0.969931</td>\n",
       "      <td>0.784396</td>\n",
       "      <td>0.900784</td>\n",
       "      <td>0.752848</td>\n",
       "      <td>1.110048</td>\n",
       "      <td>1.067111</td>\n",
       "      <td>0.847852</td>\n",
       "      <td>1.212860</td>\n",
       "      <td>0.944785</td>\n",
       "      <td>...</td>\n",
       "      <td>0.828354</td>\n",
       "      <td>0.918733</td>\n",
       "      <td>0.852403</td>\n",
       "      <td>0.949501</td>\n",
       "      <td>0.602582</td>\n",
       "      <td>1.024006</td>\n",
       "      <td>0.850697</td>\n",
       "      <td>1.106038</td>\n",
       "      <td>0.873151</td>\n",
       "      <td>0.821684</td>\n",
       "    </tr>\n",
       "    <tr>\n",
       "      <th>min</th>\n",
       "      <td>-1.742724</td>\n",
       "      <td>-1.045218</td>\n",
       "      <td>-1.570358</td>\n",
       "      <td>-1.243244</td>\n",
       "      <td>-1.816084</td>\n",
       "      <td>-1.329319</td>\n",
       "      <td>-1.260597</td>\n",
       "      <td>-1.533438</td>\n",
       "      <td>-0.494701</td>\n",
       "      <td>-1.684470</td>\n",
       "      <td>...</td>\n",
       "      <td>-2.297482</td>\n",
       "      <td>-2.297862</td>\n",
       "      <td>-1.974841</td>\n",
       "      <td>-1.612883</td>\n",
       "      <td>-0.482932</td>\n",
       "      <td>-1.550999</td>\n",
       "      <td>-2.436499</td>\n",
       "      <td>-0.572799</td>\n",
       "      <td>-1.638664</td>\n",
       "      <td>-1.338297</td>\n",
       "    </tr>\n",
       "    <tr>\n",
       "      <th>25%</th>\n",
       "      <td>0.240781</td>\n",
       "      <td>-1.045218</td>\n",
       "      <td>-0.056416</td>\n",
       "      <td>-1.243244</td>\n",
       "      <td>-0.303378</td>\n",
       "      <td>-1.329319</td>\n",
       "      <td>-1.260597</td>\n",
       "      <td>-0.794475</td>\n",
       "      <td>-0.494701</td>\n",
       "      <td>-0.335167</td>\n",
       "      <td>...</td>\n",
       "      <td>-0.367706</td>\n",
       "      <td>-1.237320</td>\n",
       "      <td>-0.594923</td>\n",
       "      <td>-0.834101</td>\n",
       "      <td>-0.482932</td>\n",
       "      <td>-1.550999</td>\n",
       "      <td>-1.705433</td>\n",
       "      <td>-0.572799</td>\n",
       "      <td>-0.914264</td>\n",
       "      <td>0.090719</td>\n",
       "    </tr>\n",
       "    <tr>\n",
       "      <th>50%</th>\n",
       "      <td>0.240781</td>\n",
       "      <td>-1.045218</td>\n",
       "      <td>0.700556</td>\n",
       "      <td>-1.243244</td>\n",
       "      <td>1.209329</td>\n",
       "      <td>-0.675554</td>\n",
       "      <td>-0.587980</td>\n",
       "      <td>-0.055511</td>\n",
       "      <td>-0.494701</td>\n",
       "      <td>-0.269102</td>\n",
       "      <td>...</td>\n",
       "      <td>0.232640</td>\n",
       "      <td>-0.363599</td>\n",
       "      <td>-0.079976</td>\n",
       "      <td>-0.135132</td>\n",
       "      <td>-0.482932</td>\n",
       "      <td>0.644746</td>\n",
       "      <td>-1.057618</td>\n",
       "      <td>0.685385</td>\n",
       "      <td>-0.480521</td>\n",
       "      <td>0.353779</td>\n",
       "    </tr>\n",
       "    <tr>\n",
       "      <th>75%</th>\n",
       "      <td>1.232533</td>\n",
       "      <td>0.956738</td>\n",
       "      <td>1.457527</td>\n",
       "      <td>0.804890</td>\n",
       "      <td>1.209329</td>\n",
       "      <td>1.285741</td>\n",
       "      <td>1.429871</td>\n",
       "      <td>-0.055511</td>\n",
       "      <td>2.021423</td>\n",
       "      <td>-0.269102</td>\n",
       "      <td>...</td>\n",
       "      <td>0.597182</td>\n",
       "      <td>-0.176778</td>\n",
       "      <td>0.325022</td>\n",
       "      <td>-0.055319</td>\n",
       "      <td>-0.482932</td>\n",
       "      <td>0.644746</td>\n",
       "      <td>-0.974368</td>\n",
       "      <td>1.986963</td>\n",
       "      <td>-0.189864</td>\n",
       "      <td>0.805226</td>\n",
       "    </tr>\n",
       "    <tr>\n",
       "      <th>max</th>\n",
       "      <td>1.232533</td>\n",
       "      <td>0.956738</td>\n",
       "      <td>1.457527</td>\n",
       "      <td>1.487601</td>\n",
       "      <td>1.209329</td>\n",
       "      <td>1.285741</td>\n",
       "      <td>1.429871</td>\n",
       "      <td>1.422415</td>\n",
       "      <td>2.021423</td>\n",
       "      <td>1.146266</td>\n",
       "      <td>...</td>\n",
       "      <td>1.562070</td>\n",
       "      <td>1.944307</td>\n",
       "      <td>1.704939</td>\n",
       "      <td>1.502245</td>\n",
       "      <td>2.070684</td>\n",
       "      <td>0.644746</td>\n",
       "      <td>1.218829</td>\n",
       "      <td>1.986963</td>\n",
       "      <td>1.258937</td>\n",
       "      <td>1.519734</td>\n",
       "    </tr>\n",
       "  </tbody>\n",
       "</table>\n",
       "<p>8 rows × 69 columns</p>\n",
       "</div>"
      ],
      "text/plain": [
       "       ALTERSKATEGORIE_GROB      ANREDE_KZ  FINANZ_MINIMALIST  FINANZ_SPARER  \\\n",
       "count         191652.000000  191652.000000      191652.000000  191652.000000   \n",
       "mean               0.293800      -0.291617           0.673133      -0.521583   \n",
       "std                1.056912       0.969931           0.784396       0.900784   \n",
       "min               -1.742724      -1.045218          -1.570358      -1.243244   \n",
       "25%                0.240781      -1.045218          -0.056416      -1.243244   \n",
       "50%                0.240781      -1.045218           0.700556      -1.243244   \n",
       "75%                1.232533       0.956738           1.457527       0.804890   \n",
       "max                1.232533       0.956738           1.457527       1.487601   \n",
       "\n",
       "       FINANZ_VORSORGER  FINANZ_ANLEGER  FINANZ_UNAUFFAELLIGER  \\\n",
       "count     191652.000000   191652.000000          191652.000000   \n",
       "mean           0.591628       -0.388023              -0.153350   \n",
       "std            0.752848        1.110048               1.067111   \n",
       "min           -1.816084       -1.329319              -1.260597   \n",
       "25%           -0.303378       -1.329319              -1.260597   \n",
       "50%            1.209329       -0.675554              -0.587980   \n",
       "75%            1.209329        1.285741               1.429871   \n",
       "max            1.209329        1.285741               1.429871   \n",
       "\n",
       "       FINANZ_HAUSBAUER  GREEN_AVANTGARDE     HEALTH_TYP  \\\n",
       "count     191652.000000     191652.000000  191652.000000   \n",
       "mean          -0.217214          0.429146      -0.335167   \n",
       "std            0.847852          1.212860       0.944785   \n",
       "min           -1.533438         -0.494701      -1.684470   \n",
       "25%           -0.794475         -0.494701      -0.335167   \n",
       "50%           -0.055511         -0.494701      -0.269102   \n",
       "75%           -0.055511          2.021423      -0.269102   \n",
       "max            1.422415          2.021423       1.146266   \n",
       "\n",
       "               ...                PLZ8_GBZ         ARBEIT    ORTSGR_KLS9  \\\n",
       "count          ...           191652.000000  191652.000000  191652.000000   \n",
       "mean           ...                0.232640      -0.363599      -0.079976   \n",
       "std            ...                0.828354       0.918733       0.852403   \n",
       "min            ...               -2.297482      -2.297862      -1.974841   \n",
       "25%            ...               -0.367706      -1.237320      -0.594923   \n",
       "50%            ...                0.232640      -0.363599      -0.079976   \n",
       "75%            ...                0.597182      -0.176778       0.325022   \n",
       "max            ...                1.562070       1.944307       1.704939   \n",
       "\n",
       "            RELAT_AB  OST_WEST_KZ_O  OST_WEST_KZ_W  \\\n",
       "count  191652.000000  191652.000000  191652.000000   \n",
       "mean       -0.135132      -0.331795      -0.057221   \n",
       "std         0.949501       0.602582       1.024006   \n",
       "min        -1.612883      -0.482932      -1.550999   \n",
       "25%        -0.834101      -0.482932      -1.550999   \n",
       "50%        -0.135132      -0.482932       0.644746   \n",
       "75%        -0.055319      -0.482932       0.644746   \n",
       "max         1.502245       2.070684       0.644746   \n",
       "\n",
       "       PRAEGENDE_JUGENDJAHRE_DECADE  PRAEGENDE_JUGENDJAHRE_MOVEMEMT  \\\n",
       "count                 191652.000000                   191652.000000   \n",
       "mean                      -1.057618                        0.685385   \n",
       "std                        0.850697                        1.106038   \n",
       "min                       -2.436499                       -0.572799   \n",
       "25%                       -1.705433                       -0.572799   \n",
       "50%                       -1.057618                        0.685385   \n",
       "75%                       -0.974368                        1.986963   \n",
       "max                        1.218829                        1.986963   \n",
       "\n",
       "       CAMEO_INTL_2015_TENS  CAMEO_INTL_2015_ONES  \n",
       "count         191652.000000         191652.000000  \n",
       "mean              -0.480521              0.353779  \n",
       "std                0.873151              0.821684  \n",
       "min               -1.638664             -1.338297  \n",
       "25%               -0.914264              0.090719  \n",
       "50%               -0.480521              0.353779  \n",
       "75%               -0.189864              0.805226  \n",
       "max                1.258937              1.519734  \n",
       "\n",
       "[8 rows x 69 columns]"
      ]
     },
     "execution_count": 123,
     "metadata": {},
     "output_type": "execute_result"
    }
   ],
   "source": [
    "#check\n",
    "scaled_customers.describe()"
   ]
  },
  {
   "cell_type": "code",
   "execution_count": 124,
   "metadata": {},
   "outputs": [],
   "source": [
    "pca_35_customers = pca_35.transform(scaled_customers)"
   ]
  },
  {
   "cell_type": "code",
   "execution_count": 125,
   "metadata": {},
   "outputs": [],
   "source": [
    "k_means_8_customers_predictions = k_means_model_8.predict(pca_35_customers)"
   ]
  },
  {
   "cell_type": "code",
   "execution_count": null,
   "metadata": {},
   "outputs": [],
   "source": []
  },
  {
   "cell_type": "markdown",
   "metadata": {},
   "source": [
    "### Step 3.3: Compare Customer Data to Demographics Data\n",
    "\n",
    "At this point, you have clustered data based on demographics of the general population of Germany, and seen how the customer data for a mail-order sales company maps onto those demographic clusters. In this final substep, you will compare the two cluster distributions to see where the strongest customer base for the company is.\n",
    "\n",
    "Consider the proportion of persons in each cluster for the general population, and the proportions for the customers. If we think the company's customer base to be universal, then the cluster assignment proportions should be fairly similar between the two. If there are only particular segments of the population that are interested in the company's products, then we should see a mismatch from one to the other. If there is a higher proportion of persons in a cluster for the customer data compared to the general population (e.g. 5% of persons are assigned to a cluster for the general population, but 15% of the customer data is closest to that cluster's centroid) then that suggests the people in that cluster to be a target audience for the company. On the other hand, the proportion of the data in a cluster being larger in the general population than the customer data (e.g. only 2% of customers closest to a population centroid that captures 6% of the data) suggests that group of persons to be outside of the target demographics.\n",
    "\n",
    "Take a look at the following points in this step:\n",
    "\n",
    "- Compute the proportion of data points in each cluster for the general population and the customer data. Visualizations will be useful here: both for the individual dataset proportions, but also to visualize the ratios in cluster representation between groups. Seaborn's [`countplot()`](https://seaborn.pydata.org/generated/seaborn.countplot.html) or [`barplot()`](https://seaborn.pydata.org/generated/seaborn.barplot.html) function could be handy.\n",
    "  - Recall the analysis you performed in step 1.1.3 of the project, where you separated out certain data points from the dataset if they had more than a specified threshold of missing values. If you found that this group was qualitatively different from the main bulk of the data, you should treat this as an additional data cluster in this analysis. Make sure that you account for the number of data points in this subset, for both the general population and customer datasets, when making your computations!\n",
    "- Which cluster or clusters are overrepresented in the customer dataset compared to the general population? Select at least one such cluster and infer what kind of people might be represented by that cluster. Use the principal component interpretations from step 2.3 or look at additional components to help you make this inference. Alternatively, you can use the `.inverse_transform()` method of the PCA and StandardScaler objects to transform centroids back to the original data space and interpret the retrieved values directly.\n",
    "- Perform a similar investigation for the underrepresented clusters. Which cluster or clusters are underrepresented in the customer dataset compared to the general population, and what kinds of people are typified by these clusters?"
   ]
  },
  {
   "cell_type": "code",
   "execution_count": 126,
   "metadata": {},
   "outputs": [
    {
     "data": {
      "text/plain": [
       "Text(0.5,1,'general')"
      ]
     },
     "execution_count": 126,
     "metadata": {},
     "output_type": "execute_result"
    },
    {
     "data": {
      "image/png": "[encoded data removed]",
      "text/plain": [
       "<matplotlib.figure.Figure at 0x7f361a9b23c8>"
      ]
     },
     "metadata": {
      "needs_background": "light"
     },
     "output_type": "display_data"
    }
   ],
   "source": [
    "# Compare the proportion of data in each cluster for the customer data to the\n",
    "# proportion of data in each cluster for the general population.\n",
    "fig, axs = plt.subplots(nrows=1, ncols=2, figsize=(20,10))\n",
    "fig.subplots_adjust(hspace=1, wspace=0.2)\n",
    "sns.countplot(k_means_8_customers_predictions, ax=axs[0])\n",
    "axs[0].set_title('customers')\n",
    "sns.countplot(k_means_8_predictions, ax=axs[1])\n",
    "axs[1].set_title('general')"
   ]
  },
  {
   "cell_type": "code",
   "execution_count": 128,
   "metadata": {},
   "outputs": [
    {
     "data": {
      "text/plain": [
       "ALTERSKATEGORIE_GROB                3.355116\n",
       "ANREDE_KZ                           1.500669\n",
       "FINANZ_MINIMALIST                   4.517290\n",
       "FINANZ_SPARER                       1.641596\n",
       "FINANZ_VORSORGER                    4.183747\n",
       "FINANZ_ANLEGER                      1.852798\n",
       "FINANZ_UNAUFFAELLIGER               2.220766\n",
       "FINANZ_HAUSBAUER                    2.089358\n",
       "GREEN_AVANTGARDE                    0.966097\n",
       "HEALTH_TYP                          2.102815\n",
       "LP_LEBENSPHASE_FEIN                25.240858\n",
       "LP_LEBENSPHASE_GROB                 7.353953\n",
       "RETOURTYP_BK_S                      3.719361\n",
       "SEMIO_SOZ                           3.990050\n",
       "SEMIO_FAM                           3.411875\n",
       "SEMIO_REL                           2.926028\n",
       "SEMIO_MAT                           3.129241\n",
       "SEMIO_VERT                          4.687874\n",
       "SEMIO_LUST                          5.219758\n",
       "SEMIO_ERL                           5.205664\n",
       "SEMIO_KULT                          3.428265\n",
       "SEMIO_RAT                           3.131325\n",
       "SEMIO_KRIT                          4.428357\n",
       "SEMIO_DOM                           4.731800\n",
       "SEMIO_KAEM                          4.251322\n",
       "SEMIO_PFLICHT                       3.133342\n",
       "SEMIO_TRADV                         2.985381\n",
       "SOHO_KZ                             0.009175\n",
       "VERS_TYP                            1.519667\n",
       "ANZ_PERSONEN                        2.307957\n",
       "                                     ...    \n",
       "KBA05_ANTG1                         2.775846\n",
       "KBA05_ANTG2                         1.064558\n",
       "KBA05_ANTG3                         0.065961\n",
       "KBA05_ANTG4                         0.012493\n",
       "KBA05_GBZ                           4.109954\n",
       "BALLRAUM                            4.089441\n",
       "EWDICHTE                            3.913986\n",
       "INNENSTADT                          4.677850\n",
       "GEBAEUDETYP_RASTER                  4.006287\n",
       "KKK                                 2.201894\n",
       "MOBI_REGIO                          4.184630\n",
       "ONLINE_AFFINITAET                   3.262731\n",
       "REGIOTYP                            3.533829\n",
       "KBA13_ANZAHL_PKW                  705.254745\n",
       "PLZ8_ANTG1                          2.835065\n",
       "PLZ8_ANTG2                          2.533791\n",
       "PLZ8_ANTG3                          1.138331\n",
       "PLZ8_ANTG4                          0.355216\n",
       "PLZ8_BAUMAX                         1.179683\n",
       "PLZ8_HHZ                            3.702517\n",
       "PLZ8_GBZ                            3.948374\n",
       "ARBEIT                              2.977467\n",
       "ORTSGR_KLS9                         5.320779\n",
       "RELAT_AB                            2.862903\n",
       "OST_WEST_KZ_O                       0.090506\n",
       "OST_WEST_KZ_W                       0.894850\n",
       "PRAEGENDE_JUGENDJAHRE_DECADE        3.647545\n",
       "PRAEGENDE_JUGENDJAHRE_MOVEMEMT      0.969448\n",
       "CAMEO_INTL_2015_TENS                2.036401\n",
       "CAMEO_INTL_2015_ONES                3.645570\n",
       "Length: 69, dtype: float64"
      ]
     },
     "execution_count": 128,
     "metadata": {},
     "output_type": "execute_result"
    }
   ],
   "source": [
    "# What kinds of people are part of a cluster that is overrepresented in the\n",
    "# customer data compared to the general population?\n",
    "over = scaler.inverse_transform(pca_35.inverse_transform(k_means_model_8.cluster_centers_[1]))\n",
    "pd.Series(over,index=scaled_customers.columns)"
   ]
  },
  {
   "cell_type": "code",
   "execution_count": 129,
   "metadata": {},
   "outputs": [
    {
     "data": {
      "text/plain": [
       "ALTERSKATEGORIE_GROB                1.757801\n",
       "ANREDE_KZ                           1.571110\n",
       "FINANZ_MINIMALIST                   1.424786\n",
       "FINANZ_SPARER                       4.313941\n",
       "FINANZ_VORSORGER                    2.143958\n",
       "FINANZ_ANLEGER                      3.858500\n",
       "FINANZ_UNAUFFAELLIGER               3.654131\n",
       "FINANZ_HAUSBAUER                    4.024833\n",
       "GREEN_AVANTGARDE                    0.058030\n",
       "HEALTH_TYP                          2.290441\n",
       "LP_LEBENSPHASE_FEIN                 9.600967\n",
       "LP_LEBENSPHASE_GROB                 3.220579\n",
       "RETOURTYP_BK_S                      2.776301\n",
       "SEMIO_SOZ                           4.713135\n",
       "SEMIO_FAM                           5.127595\n",
       "SEMIO_REL                           5.770094\n",
       "SEMIO_MAT                           4.941257\n",
       "SEMIO_VERT                          3.739717\n",
       "SEMIO_LUST                          3.165804\n",
       "SEMIO_ERL                           3.475120\n",
       "SEMIO_KULT                          5.249857\n",
       "SEMIO_RAT                           5.282889\n",
       "SEMIO_KRIT                          4.387692\n",
       "SEMIO_DOM                           4.783025\n",
       "SEMIO_KAEM                          4.729156\n",
       "SEMIO_PFLICHT                       5.949002\n",
       "SEMIO_TRADV                         5.198753\n",
       "SOHO_KZ                             0.007745\n",
       "VERS_TYP                            1.493805\n",
       "ANZ_PERSONEN                        1.430373\n",
       "                                     ...    \n",
       "KBA05_ANTG1                         0.219776\n",
       "KBA05_ANTG2                         0.985118\n",
       "KBA05_ANTG3                         1.141468\n",
       "KBA05_ANTG4                         0.804818\n",
       "KBA05_GBZ                           1.938450\n",
       "BALLRAUM                            2.751397\n",
       "EWDICHTE                            5.492400\n",
       "INNENSTADT                          2.863182\n",
       "GEBAEUDETYP_RASTER                  3.194084\n",
       "KKK                                 2.917896\n",
       "MOBI_REGIO                          1.513417\n",
       "ONLINE_AFFINITAET                   2.883765\n",
       "REGIOTYP                            5.123633\n",
       "KBA13_ANZAHL_PKW                  461.988986\n",
       "PLZ8_ANTG1                          1.198329\n",
       "PLZ8_ANTG2                          3.299982\n",
       "PLZ8_ANTG3                          2.633160\n",
       "PLZ8_ANTG4                          1.542280\n",
       "PLZ8_BAUMAX                         3.644034\n",
       "PLZ8_HHZ                            3.734442\n",
       "PLZ8_GBZ                            2.342026\n",
       "ARBEIT                              3.766236\n",
       "ORTSGR_KLS9                         7.432400\n",
       "RELAT_AB                            3.815042\n",
       "OST_WEST_KZ_O                       0.331566\n",
       "OST_WEST_KZ_W                       0.627882\n",
       "PRAEGENDE_JUGENDJAHRE_DECADE        5.584999\n",
       "PRAEGENDE_JUGENDJAHRE_MOVEMEMT      0.074950\n",
       "CAMEO_INTL_2015_TENS                4.580132\n",
       "CAMEO_INTL_2015_ONES                1.852940\n",
       "Length: 69, dtype: float64"
      ]
     },
     "execution_count": 129,
     "metadata": {},
     "output_type": "execute_result"
    }
   ],
   "source": [
    "# What kinds of people are part of a cluster that is underrepresented in the\n",
    "# customer data compared to the general population?\n",
    "under = scaler.inverse_transform(pca_35.inverse_transform(k_means_model_8.cluster_centers_[7]))\n",
    "pd.Series(under,index=scaled_customers.columns)"
   ]
  },
  {
   "cell_type": "markdown",
   "metadata": {},
   "source": [
    "### Discussion 3.3: Compare Customer Data to Demographics Data\n",
    "\n",
    "## Answer\n",
    "Looking at the graphs, it looks like cluster 2 is overrepresented in the customer data compared to the general population with presence for FINANZ_MINIMALIST, which is individuals with a low financial interest, and PLZ8_ANTG1 that is the houses with 1-2 family houses in the PLZ8 region. Also, from the graph, it seems that cluster 8 is underrepresented in the customer data compared to the general population with a presence for FINANZ_SPARER, which is individuals categorized as money-saver, and KBA05_ANTG3 that is the houses with 6-10 family houses in the microcell region."
   ]
  },
  {
   "cell_type": "markdown",
   "metadata": {},
   "source": [
    "> Congratulations on making it this far in the project! Before you finish, make sure to check through the entire notebook from top to bottom to make sure that your analysis follows a logical flow and all of your findings are documented in **Discussion** cells. Once you've checked over all of your work, you should export the notebook as an HTML document to submit for evaluation. You can do this from the menu, navigating to **File -> Download as -> HTML (.html)**. You will submit both that document and this notebook for your project submission."
   ]
  },
  {
   "cell_type": "code",
   "execution_count": 130,
   "metadata": {},
   "outputs": [
    {
     "data": {
      "text/plain": [
       "['[NbConvertApp] Converting notebook Identify_Customer_Segments.ipynb to html',\n",
       " '[NbConvertApp] Writing 775950 bytes to Identify_Customer_Segments.html']"
      ]
     },
     "execution_count": 130,
     "metadata": {},
     "output_type": "execute_result"
    }
   ],
   "source": [
    "!!jupyter nbconvert *.ipynb"
   ]
  },
  {
   "cell_type": "code",
   "execution_count": null,
   "metadata": {},
   "outputs": [],
   "source": []
  }
 ],
 "metadata": {
  "kernelspec": {
   "display_name": "Python 3",
   "language": "python",
   "name": "python3"
  },
  "language_info": {
   "codemirror_mode": {
    "name": "ipython",
    "version": 3
   },
   "file_extension": ".py",
   "mimetype": "text/x-python",
   "name": "python",
   "nbconvert_exporter": "python",
   "pygments_lexer": "ipython3",
   "version": "3.7.1"
  }
 },
 "nbformat": 4,
 "nbformat_minor": 2
}
